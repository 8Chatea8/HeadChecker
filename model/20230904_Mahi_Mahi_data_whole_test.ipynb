{
 "cells": [
  {
   "cell_type": "markdown",
   "id": "7a28acc9",
   "metadata": {
    "colab_type": "text",
    "id": "view-in-github"
   },
   "source": [
    "<a href=\"https://colab.research.google.com/github/8Chatea8/HeadChecker/blob/main/model/20230904_Mahi_Mahi_data_whole_test.ipynb\" target=\"_parent\"><img src=\"https://colab.research.google.com/assets/colab-badge.svg\" alt=\"Open In Colab\"/></a>"
   ]
  },
  {
   "cell_type": "markdown",
   "id": "ijc8cqiWkRrC",
   "metadata": {
    "id": "ijc8cqiWkRrC"
   },
   "source": [
    "## 2023.09.04.\n",
    "담당: 노유현  \n",
    "데이터: train: data_whole.csv  \n",
    "모델: 'bert-base-multilingual-cased'  \n",
    "파라미터: MAX_LEN = 450/batch_size = 8/epoch=4  "
   ]
  },
  {
   "cell_type": "code",
   "execution_count": 1,
   "id": "b8416ce0",
   "metadata": {
    "id": "b8416ce0",
    "outputId": "5a5ea409-30c6-46ad-d91f-183092f39f97"
   },
   "outputs": [
    {
     "name": "stderr",
     "output_type": "stream",
     "text": [
      "2023-09-18 01:58:32.832917: I tensorflow/tsl/cuda/cudart_stub.cc:28] Could not find cuda drivers on your machine, GPU will not be used.\n",
      "2023-09-18 01:58:32.888328: I tensorflow/tsl/cuda/cudart_stub.cc:28] Could not find cuda drivers on your machine, GPU will not be used.\n",
      "2023-09-18 01:58:32.889787: I tensorflow/core/platform/cpu_feature_guard.cc:182] This TensorFlow binary is optimized to use available CPU instructions in performance-critical operations.\n",
      "To enable the following instructions: AVX2 FMA, in other operations, rebuild TensorFlow with the appropriate compiler flags.\n",
      "2023-09-18 01:58:33.835025: W tensorflow/compiler/tf2tensorrt/utils/py_utils.cc:38] TF-TRT Warning: Could not find TensorRT\n"
     ]
    }
   ],
   "source": [
    "import tensorflow as tf\n",
    "import torch\n",
    "\n",
    "from transformers import BertTokenizer\n",
    "from transformers import BertForSequenceClassification, AdamW, BertConfig\n",
    "from transformers import get_linear_schedule_with_warmup\n",
    "from torch.utils.data import TensorDataset, DataLoader, RandomSampler, SequentialSampler\n",
    "from tensorflow.keras.preprocessing.sequence import pad_sequences\n",
    "from sklearn.model_selection import train_test_split\n",
    "\n",
    "import pandas as pd\n",
    "import numpy as np\n",
    "import random\n",
    "import time\n",
    "import datetime"
   ]
  },
  {
   "cell_type": "code",
   "execution_count": 2,
   "id": "ab2650b8",
   "metadata": {
    "id": "ab2650b8"
   },
   "outputs": [],
   "source": [
    "# 메모리 삭제 : CUDA out of memery\n",
    "\n",
    "torch.cuda.empty_cache()"
   ]
  },
  {
   "cell_type": "markdown",
   "id": "8AJjwm5lyXiM",
   "metadata": {
    "id": "8AJjwm5lyXiM"
   },
   "source": [
    "### 데이터 로드"
   ]
  },
  {
   "cell_type": "code",
   "execution_count": 5,
   "id": "82395c6a",
   "metadata": {
    "id": "82395c6a",
    "outputId": "a7c19dbb-78a8-48e6-f51e-5aaea2d1c6a4"
   },
   "outputs": [],
   "source": [
    "# 데이터 로드\n",
    "df = pd.read_csv('~/data_whole.csv', encoding='utf-8')"
   ]
  },
  {
   "cell_type": "code",
   "execution_count": 6,
   "id": "31d2f4b2",
   "metadata": {
    "id": "31d2f4b2",
    "outputId": "a6ae8f29-933a-4c85-83ec-2eadb1fd1a04"
   },
   "outputs": [
    {
     "data": {
      "text/plain": [
       "Class\n",
       "1    162468\n",
       "0    155664\n",
       "Name: count, dtype: int64"
      ]
     },
     "execution_count": 6,
     "metadata": {},
     "output_type": "execute_result"
    }
   ],
   "source": [
    "df['Class'].value_counts() # 진짜뉴스 1: 41,332개 / 낚시뉴스 0: 29,663개"
   ]
  },
  {
   "cell_type": "markdown",
   "id": "XDi0iaDgycf_",
   "metadata": {
    "id": "XDi0iaDgycf_"
   },
   "source": [
    "### 데이터 전처리\n",
    "\n",
    "1. 특수토큰 삽입 [CLS] + 헤드라인 + [SEP] + 본문 + [SEP]\n",
    "2. 토크나이징(BertTokenizer.from_pretrained('bert-base-multilingual-cased' 사용))\n",
    "3. MAX_LEN에 맞게 패딩\n",
    "4. 패딩에 맞게 어텐션 마스크 만듦\n",
    "5. train, validation으로 나눔(9:1)\n",
    "6. Dataloader에 피딩"
   ]
  },
  {
   "cell_type": "code",
   "execution_count": 7,
   "id": "7fae7626",
   "metadata": {
    "id": "7fae7626",
    "outputId": "2bc5d747-6f0e-4b67-e36c-249366dbcfae"
   },
   "outputs": [],
   "source": [
    "## 헤드라인 데이터 전처리\n",
    "\n",
    "sentences_h = df['Headline']\n",
    "sentences_h = [\"[CLS] \" + str(sentence) + \" [SEP]\" for sentence in sentences_h]\n",
    "\n",
    "sentences_c = df['Content']\n",
    "sentences_c = [ str(sentence) + \" [SEP]\" for sentence in sentences_c]\n",
    "\n",
    "sentences = []\n",
    "\n",
    "for i in range(len(sentences_h)):\n",
    "    sentence = sentences_h[i] + \" \" + sentences_c[i]\n",
    "    sentences.append(sentence)"
   ]
  },
  {
   "cell_type": "code",
   "execution_count": 8,
   "id": "fe9a0a8c",
   "metadata": {
    "id": "fe9a0a8c",
    "outputId": "c747aa2a-16c1-4f85-eb0d-3a5aee9ce8c3"
   },
   "outputs": [
    {
     "data": {
      "text/plain": [
       "array([0, 1, 1, ..., 0, 1, 0])"
      ]
     },
     "execution_count": 8,
     "metadata": {},
     "output_type": "execute_result"
    }
   ],
   "source": [
    "# Class(라벨) 추출 : 가짜뉴스 0 / 진짜뉴스 1\n",
    "labels = df['Class'].values\n",
    "labels"
   ]
  },
  {
   "cell_type": "code",
   "execution_count": null,
   "id": "b153050c",
   "metadata": {
    "colab": {
     "referenced_widgets": [
      "98a171f7ac9e44bb87d764da1a407287",
      "6af84d9791094cc48a2c31670670f98a",
      "095d6d1795de4bc0a4819e524a3ea2b1",
      "50c38badf9fb47759103bcbd0c937cc1"
     ]
    },
    "id": "b153050c",
    "outputId": "5ed8dfc1-777a-4443-cc60-81efc1a0e763"
   },
   "outputs": [],
   "source": [
    "# BERT의 토크나이저로 문장을 토큰으로 분리\n",
    "tokenizer = BertTokenizer.from_pretrained('bert-base-multilingual-cased', do_lower_case=False)\n",
    "tokenized_texts = [tokenizer.tokenize(sent) for sent in sentences]\n",
    "\n",
    "print (sentences[0])\n",
    "print (tokenized_texts[0])"
   ]
  },
  {
   "cell_type": "code",
   "execution_count": null,
   "id": "c5cddd7c",
   "metadata": {
    "id": "c5cddd7c",
    "outputId": "67e136fb-7c63-47c2-e3ad-f795fcdea00b"
   },
   "outputs": [],
   "source": [
    "# 입력 토큰의 최대 시퀀스 길이\n",
    "MAX_LEN = 450\n",
    "\n",
    "# 토큰을 숫자 인덱스로 변환\n",
    "input_ids = [tokenizer.convert_tokens_to_ids(x) for x in tokenized_texts]\n",
    "\n",
    "# 문장을 MAX_LEN 길이에 맞게 자르고, 모자란 부분을 패딩 0으로 채움\n",
    "input_ids = pad_sequences(input_ids, maxlen=MAX_LEN, dtype=\"long\", truncating=\"post\", padding=\"post\")\n",
    "\n",
    "input_ids[0]"
   ]
  },
  {
   "cell_type": "code",
   "execution_count": null,
   "id": "f2e14b42",
   "metadata": {
    "id": "f2e14b42",
    "outputId": "a4952464-b13e-428e-9d4a-a32c66070eee"
   },
   "outputs": [],
   "source": [
    "## 어텐션 마스크\n",
    "\n",
    "# 어텐션 마스크 초기화\n",
    "attention_masks = []\n",
    "\n",
    "# 어텐션 마스크를 패딩이 아니면 1, 패딩이면 0으로 설정\n",
    "# 패딩 부분은 BERT 모델에서 어텐션을 수행하지 않아 속도 향상\n",
    "for seq in input_ids:\n",
    "    seq_mask = [float(i>0) for i in seq]\n",
    "    attention_masks.append(seq_mask)\n",
    "\n",
    "print(attention_masks[0])"
   ]
  },
  {
   "cell_type": "code",
   "execution_count": null,
   "id": "fcc46965",
   "metadata": {
    "id": "fcc46965",
    "outputId": "6462241f-5b76-44ce-93eb-494404509008"
   },
   "outputs": [],
   "source": [
    "# 훈련셋과 검증셋으로 분리\n",
    "df_inputs, validation_inputs, df_labels, validation_labels = train_test_split(input_ids,\n",
    "                                                                                    labels,\n",
    "                                                                                    random_state=2018,\n",
    "                                                                                    test_size=0.1)\n",
    "\n",
    "# 어텐션 마스크를 훈련셋과 검증셋으로 분리\n",
    "df_masks, validation_masks, _, _ = train_test_split(attention_masks,\n",
    "                                                       input_ids,\n",
    "                                                       random_state=2018,\n",
    "                                                       test_size=0.1)\n",
    "\n",
    "# 데이터를 파이토치의 텐서로 변환\n",
    "df_inputs = torch.tensor(df_inputs)\n",
    "df_labels = torch.tensor(df_labels)\n",
    "df_masks = torch.tensor(df_masks)\n",
    "validation_inputs = torch.tensor(validation_inputs)\n",
    "validation_labels = torch.tensor(validation_labels)\n",
    "validation_masks = torch.tensor(validation_masks)\n",
    "\n",
    "print(df_inputs[0])\n",
    "print(df_labels[0])\n",
    "print(df_masks[0])\n",
    "print(validation_inputs[0])\n",
    "print(validation_labels[0])\n",
    "print(validation_masks[0])"
   ]
  },
  {
   "cell_type": "code",
   "execution_count": null,
   "id": "cc33d552",
   "metadata": {
    "id": "cc33d552"
   },
   "outputs": [],
   "source": [
    "# 배치 사이즈\n",
    "batch_size = 8\n",
    "\n",
    "# 파이토치의 DataLoader로 입력, 마스크, 라벨을 묶어 데이터 설정\n",
    "# 학습시 배치 사이즈 만큼 데이터를 가져옴\n",
    "df_data = TensorDataset(df_inputs, df_masks, df_labels)\n",
    "df_sampler = RandomSampler(df_data)\n",
    "df_dataloader = DataLoader(df_data, sampler=df_sampler, batch_size=batch_size)\n",
    "\n",
    "validation_data = TensorDataset(validation_inputs, validation_masks, validation_labels)\n",
    "validation_sampler = SequentialSampler(validation_data)\n",
    "validation_dataloader = DataLoader(validation_data, sampler=validation_sampler, batch_size=batch_size)"
   ]
  },
  {
   "cell_type": "markdown",
   "id": "Q04CtmZIykU0",
   "metadata": {
    "id": "Q04CtmZIykU0"
   },
   "source": [
    "### 모델 생성"
   ]
  },
  {
   "cell_type": "code",
   "execution_count": null,
   "id": "72ad521d",
   "metadata": {
    "id": "72ad521d",
    "outputId": "bf0c1699-b4be-4665-e468-2a33a930da5d"
   },
   "outputs": [],
   "source": [
    "## 모델 생성\n",
    "\n",
    "# GPU 디바이스 이름 구함\n",
    "device_name = tf.test.gpu_device_name()\n",
    "\n",
    "# GPU 디바이스 이름 검사\n",
    "if device_name == '/device:GPU:0':\n",
    "    print('Found GPU at: {}'.format(device_name))\n",
    "else:\n",
    "    raise SystemError('GPU device not found')"
   ]
  },
  {
   "cell_type": "code",
   "execution_count": null,
   "id": "87f0b0f0",
   "metadata": {
    "id": "87f0b0f0",
    "outputId": "7a185124-bd34-48a5-a43f-1f6e7abe475e"
   },
   "outputs": [],
   "source": [
    "# 디바이스 설정\n",
    "if torch.cuda.is_available():\n",
    "    device = torch.device(\"cuda\")\n",
    "    print('There are %d GPU(s) available.' % torch.cuda.device_count())\n",
    "    print('We will use the GPU:', torch.cuda.get_device_name(0))\n",
    "else:\n",
    "    device = torch.device(\"cpu\")\n",
    "    print('No GPU available, using the CPU instead.')"
   ]
  },
  {
   "cell_type": "code",
   "execution_count": null,
   "id": "ddc5f027",
   "metadata": {
    "colab": {
     "referenced_widgets": [
      "fe7cd32897d7471ab9ecf9080ec72aac"
     ]
    },
    "id": "ddc5f027",
    "outputId": "7ee47447-6317-46d4-a830-a6a698bfe59f"
   },
   "outputs": [],
   "source": [
    "# 분류를 위한 BERT 모델 생성\n",
    "model = BertForSequenceClassification.from_pretrained(\"bert-base-multilingual-cased\", num_labels=2)\n",
    "model.cuda()"
   ]
  },
  {
   "cell_type": "code",
   "execution_count": null,
   "id": "bcfab44e",
   "metadata": {
    "id": "bcfab44e",
    "outputId": "30616cda-e828-4121-c8a8-4410645a6a98"
   },
   "outputs": [],
   "source": [
    "# 옵티마이저 설정\n",
    "optimizer = AdamW(model.parameters(),\n",
    "                  lr = 2e-5, # 학습률\n",
    "                  eps = 1e-8 # 0으로 나누는 것을 방지하기 위한 epsilon 값\n",
    "                )\n",
    "\n",
    "# 에폭수\n",
    "epochs = 4\n",
    "\n",
    "# 총 훈련 스텝 : 배치반복 횟수 * 에폭\n",
    "total_steps = len(df_dataloader) * epochs\n",
    "\n",
    "# 처음에 학습률을 조금씩 변화시키는 스케줄러 생성\n",
    "scheduler = get_linear_schedule_with_warmup(optimizer,\n",
    "                                            num_warmup_steps = 0,\n",
    "                                            num_training_steps = total_steps)"
   ]
  },
  {
   "cell_type": "code",
   "execution_count": null,
   "id": "a1ec1344",
   "metadata": {
    "id": "a1ec1344"
   },
   "outputs": [],
   "source": [
    "## 모델학습\n",
    "\n",
    "# 정확도 계산 함수\n",
    "def flat_accuracy(preds, labels):\n",
    "\n",
    "    pred_flat = np.argmax(preds, axis=1).flatten()\n",
    "    labels_flat = labels.flatten()\n",
    "\n",
    "    return np.sum(pred_flat == labels_flat) / len(labels_flat)"
   ]
  },
  {
   "cell_type": "code",
   "execution_count": null,
   "id": "04a15423",
   "metadata": {
    "id": "04a15423"
   },
   "outputs": [],
   "source": [
    "# 시간 표시 함수\n",
    "def format_time(elapsed):\n",
    "\n",
    "    # 반올림\n",
    "    elapsed_rounded = int(round((elapsed)))\n",
    "\n",
    "    # hh:mm:ss으로 형태 변경\n",
    "    return str(datetime.timedelta(seconds=elapsed_rounded))"
   ]
  },
  {
   "cell_type": "markdown",
   "id": "ilB9jtd2ypGi",
   "metadata": {
    "id": "ilB9jtd2ypGi"
   },
   "source": [
    "### 모델 학습"
   ]
  },
  {
   "cell_type": "code",
   "execution_count": null,
   "id": "72ab332e",
   "metadata": {
    "id": "72ab332e",
    "outputId": "7516a267-885e-4399-ed01-ccb5159a202c"
   },
   "outputs": [],
   "source": [
    "# 재현을 위해 랜덤시드 고정\n",
    "seed_val = 42\n",
    "random.seed(seed_val)\n",
    "np.random.seed(seed_val)\n",
    "torch.manual_seed(seed_val)\n",
    "torch.cuda.manual_seed_all(seed_val)\n",
    "\n",
    "# 그래디언트 초기화\n",
    "model.zero_grad()\n",
    "\n",
    "# 에폭만큼 반복\n",
    "for epoch_i in range(0, epochs):\n",
    "\n",
    "    # ========================================\n",
    "    #               Training\n",
    "    # ========================================\n",
    "\n",
    "    print(\"\")\n",
    "    print('======== Epoch {:} / {:} ========'.format(epoch_i + 1, epochs))\n",
    "    print('Training...')\n",
    "\n",
    "    # 시작 시간 설정\n",
    "    t0 = time.time()\n",
    "\n",
    "    # 로스 초기화\n",
    "    total_loss = 0\n",
    "\n",
    "    # 훈련모드로 변경\n",
    "    model.train()\n",
    "\n",
    "    # 데이터로더에서 배치만큼 반복하여 가져옴\n",
    "    for step, batch in enumerate(df_dataloader):\n",
    "        # 경과 정보 표시\n",
    "        if step % 500 == 0 and not step == 0:\n",
    "            elapsed = format_time(time.time() - t0)\n",
    "            print('  Batch {:>5,}  of  {:>5,}.    Elapsed: {:}.'.format(step, len(df_dataloader), elapsed))\n",
    "\n",
    "        # 배치를 GPU에 넣음\n",
    "        batch = tuple(t.to(device) for t in batch)\n",
    "\n",
    "        # 배치에서 데이터 추출\n",
    "        b_input_ids, b_input_mask, b_labels = batch\n",
    "\n",
    "        # Forward 수행\n",
    "        outputs = model(b_input_ids,\n",
    "                        token_type_ids=None,\n",
    "                        attention_mask=b_input_mask,\n",
    "                        labels=b_labels)\n",
    "\n",
    "        # 로스 구함\n",
    "        loss = outputs[0]\n",
    "\n",
    "        # 총 로스 계산\n",
    "        total_loss += loss.item()\n",
    "\n",
    "        # Backward 수행으로 그래디언트 계산\n",
    "        loss.backward()\n",
    "\n",
    "        # 그래디언트 클리핑\n",
    "        torch.nn.utils.clip_grad_norm_(model.parameters(), 1.0)\n",
    "\n",
    "        # 그래디언트를 통해 가중치 파라미터 업데이트\n",
    "        optimizer.step()\n",
    "\n",
    "        # 스케줄러로 학습률 감소\n",
    "        scheduler.step()\n",
    "\n",
    "        # 그래디언트 초기화\n",
    "        model.zero_grad()\n",
    "\n",
    "    # 평균 로스 계산\n",
    "    avg_df_loss = total_loss / len(df_dataloader)\n",
    "\n",
    "    print(\"\")\n",
    "    print(\"  Average Data loss: {0:.2f}\".format(avg_df_loss))\n",
    "    print(\"  Training epcoh took: {:}\".format(format_time(time.time() - t0)))\n",
    "\n",
    "    # ========================================\n",
    "    #               Validation\n",
    "    # ========================================\n",
    "\n",
    "    print(\"\")\n",
    "    print(\"Running Validation...\")\n",
    "\n",
    "    #시작 시간 설정\n",
    "    t0 = time.time()\n",
    "\n",
    "    # 평가모드로 변경\n",
    "    model.eval()\n",
    "\n",
    "    # 변수 초기화\n",
    "    eval_loss, eval_accuracy = 0, 0\n",
    "    nb_eval_steps, nb_eval_examples = 0, 0\n",
    "\n",
    "    # 데이터로더에서 배치만큼 반복하여 가져옴\n",
    "    for batch in validation_dataloader:\n",
    "        # 배치를 GPU에 넣음\n",
    "        batch = tuple(t.to(device) for t in batch)\n",
    "\n",
    "        # 배치에서 데이터 추출\n",
    "        b_input_ids, b_input_mask, b_labels = batch\n",
    "\n",
    "        # 그래디언트 계산 안함\n",
    "        with torch.no_grad():\n",
    "            # Forward 수행\n",
    "            outputs = model(b_input_ids,\n",
    "                            token_type_ids=None,\n",
    "                            attention_mask=b_input_mask)\n",
    "\n",
    "        # 출력 로짓 구함\n",
    "        logits = outputs[0]\n",
    "\n",
    "        # CPU로 데이터 이동\n",
    "        logits = logits.detach().cpu().numpy()\n",
    "        label_ids = b_labels.to('cpu').numpy()\n",
    "\n",
    "        # 출력 로짓과 라벨을 비교하여 정확도 계산\n",
    "        tmp_eval_accuracy = flat_accuracy(logits, label_ids)\n",
    "        eval_accuracy += tmp_eval_accuracy\n",
    "        nb_eval_steps += 1\n",
    "\n",
    "    print(\"  Accuracy: {0:.2f}\".format(eval_accuracy/nb_eval_steps))\n",
    "    print(\"  Validation took: {:}\".format(format_time(time.time() - t0)))\n",
    "\n",
    "print(\"\")\n",
    "print(\"Training complete!\")"
   ]
  },
  {
   "cell_type": "code",
   "execution_count": null,
   "id": "b2109022-682a-47ab-bb08-1a9289214a65",
   "metadata": {
    "id": "b2109022-682a-47ab-bb08-1a9289214a65"
   },
   "outputs": [],
   "source": [
    "# 모델 저장 방법 : save_pretrained(디렉토리)\n",
    "# 모델 저장 변수 이름.save_pretrained(원하는 디렉토리) 형태\n",
    "\n",
    "model_test.save_pretrained('/home/hyunkoo/DATA/Uhyeon/data_whole_model_test.pt') # 파이토치 기반 모델"
   ]
  },
  {
   "cell_type": "code",
   "execution_count": null,
   "id": "86cc1c1d-fddd-4241-b267-38fd0112a40d",
   "metadata": {
    "id": "86cc1c1d-fddd-4241-b267-38fd0112a40d"
   },
   "outputs": [],
   "source": [
    "# 모델 불러오기 방법 : from_pretrained(디렉토리)\n",
    "# 모델 클래스 이름.from_pretrained(저장된 디렉토리) 형태\n",
    "model_test = BertForSequenceClassification.from_pretrained('/home/hyunkoo/DATA/Uhyeon/data_whole_model_test.pt')"
   ]
  },
  {
   "cell_type": "code",
   "execution_count": null,
   "id": "f0b00667-cac4-491a-b2ce-528a6005761d",
   "metadata": {
    "id": "f0b00667-cac4-491a-b2ce-528a6005761d",
    "outputId": "4d1a1a55-f4fd-46d6-8e9e-78221cfa4492"
   },
   "outputs": [],
   "source": [
    "print(model_test)"
   ]
  },
  {
   "cell_type": "markdown",
   "id": "cbIDoceXytzR",
   "metadata": {
    "id": "cbIDoceXytzR"
   },
   "source": [
    "### 테스트셋 평가"
   ]
  },
  {
   "cell_type": "code",
   "execution_count": null,
   "id": "c4caf4b4-5b2a-4b99-a322-28d0437ede10",
   "metadata": {
    "id": "c4caf4b4-5b2a-4b99-a322-28d0437ede10"
   },
   "outputs": [],
   "source": [
    "##### 새로운 문장 테스트 #####\n",
    "model.eval()  # 모델을 평가 모드로 설정\n",
    "\n",
    "# CPU를 사용합니다.\n",
    "device = torch.device(\"cpu\")\n",
    "\n",
    "# 입력 문장을 토큰화하고 BERT 모델에 맞게 변환하는 함수를 정의합니다.\n",
    "def convert_input_data(sentences):\n",
    "    tokenized_texts = [tokenizer.tokenize(sent) for sent in sentences]\n",
    "    MAX_LEN = 450\n",
    "    input_ids = [tokenizer.convert_tokens_to_ids(x) for x in tokenized_texts]\n",
    "    input_ids = pad_sequences(input_ids, maxlen=MAX_LEN, dtype=\"long\", truncating=\"post\", padding=\"post\")\n",
    "    attention_masks = []\n",
    "    for seq in input_ids:\n",
    "        seq_mask = [float(i > 0) for i in seq]\n",
    "        attention_masks.append(seq_mask)\n",
    "    inputs = torch.tensor(input_ids).to(device)  # 입력 데이터를 CPU로 이동\n",
    "    masks = torch.tensor(attention_masks).to(device)  # 어텐션 마스크를 CPU로 이동\n",
    "    return inputs, masks"
   ]
  },
  {
   "cell_type": "code",
   "execution_count": null,
   "id": "31710440-0073-4c90-a4f1-d87cb3ed223f",
   "metadata": {
    "id": "31710440-0073-4c90-a4f1-d87cb3ed223f"
   },
   "outputs": [],
   "source": [
    "# 문장을 테스트하는 함수를 정의합니다.\n",
    "def test_sentences(sentences):\n",
    "    inputs, masks = convert_input_data(sentences)\n",
    "\n",
    "    with torch.no_grad():\n",
    "        outputs = model(inputs, token_type_ids=None, attention_mask=masks)\n",
    "\n",
    "    logits = outputs.logits\n",
    "    probabilities = torch.softmax(logits, dim=1)\n",
    "    probabilities = probabilities.numpy()\n",
    "    return probabilities"
   ]
  },
  {
   "cell_type": "code",
   "execution_count": null,
   "id": "9dd3a679-3d0a-4c62-8bfb-b316bee9e994",
   "metadata": {
    "id": "9dd3a679-3d0a-4c62-8bfb-b316bee9e994",
    "outputId": "8da666d4-4852-4871-9748-788c3ded0267"
   },
   "outputs": [],
   "source": [
    "# 파일에서 텍스트를 읽어오는 함수를 정의합니다\n",
    "def read_text_from_file(file_path):\n",
    "    with open(file_path, 'r', encoding='utf-8') as file:\n",
    "        text = file.read()\n",
    "    return text\n",
    "\n",
    "###### 네이버 뉴스에서 실제 기사를 가져와서 테스트 해보기\n",
    "\n",
    "###### Test 01 가짜 뉴스 테스트 ######\n",
    "file_path = '/home/hyunkoo/DATA/Uhyeon/news_test_01.txt'\n",
    "\n",
    "# 파일에서 텍스트를 읽어옵니다\n",
    "news_test_01 = read_text_from_file(file_path)\n",
    "print(news_test_01)"
   ]
  },
  {
   "cell_type": "code",
   "execution_count": null,
   "id": "8d7819b9-8a9f-4267-8cd1-a67e07469050",
   "metadata": {
    "id": "8d7819b9-8a9f-4267-8cd1-a67e07469050",
    "outputId": "b0184b5c-1b17-4d2d-ec37-1697ee7397ac"
   },
   "outputs": [],
   "source": [
    "# 모델을 사용하여 텍스트의 유사도를 테스트합니다\n",
    "###### Test 01 가짜 뉴스 테스트 => 결과 0 출력되어야 함\n",
    "logits = test_sentences([news_test_01])\n",
    "\n",
    "print(logits)\n",
    "print(np.argmax(logits))"
   ]
  },
  {
   "cell_type": "code",
   "execution_count": null,
   "id": "3d6f4808-39bf-49fd-b11a-1b130e39b932",
   "metadata": {
    "id": "3d6f4808-39bf-49fd-b11a-1b130e39b932",
    "outputId": "82a2e734-893d-455e-cffc-096b0a73c4b2"
   },
   "outputs": [],
   "source": [
    "###### 네이버 뉴스에서 실제 기사를 가져와서 테스트 해보기\n",
    "\n",
    "###### Test 02 가짜 뉴스 테스트 ######\n",
    "file_path = '/home/hyunkoo/DATA/Uhyeon/news_test_02.txt'\n",
    "\n",
    "# 파일에서 텍스트를 읽어옵니다\n",
    "news_test_02 = read_text_from_file(file_path)\n",
    "print(news_test_02)"
   ]
  },
  {
   "cell_type": "code",
   "execution_count": null,
   "id": "811619ce-49a3-49e1-82f5-286e5d043360",
   "metadata": {
    "id": "811619ce-49a3-49e1-82f5-286e5d043360",
    "outputId": "bb3be708-5e5a-4ef0-e120-c5e14a97a12a"
   },
   "outputs": [],
   "source": [
    "# 모델을 사용하여 텍스트의 유사도를 테스트합니다\n",
    "###### Test 02 가짜 뉴스 테스트 => 결과 0 출력되어야 함\n",
    "logits = test_sentences([news_test_02])\n",
    "\n",
    "print(logits)\n",
    "print(np.argmax(logits))"
   ]
  },
  {
   "cell_type": "code",
   "execution_count": null,
   "id": "a39c76e1-facd-412b-8012-dfdb4edcbab3",
   "metadata": {
    "id": "a39c76e1-facd-412b-8012-dfdb4edcbab3",
    "outputId": "2b2eaaf8-5ab4-43f0-a527-2b71ee876e72"
   },
   "outputs": [],
   "source": [
    "###### 네이버 뉴스에서 실제 기사를 가져와서 테스트 해보기\n",
    "\n",
    "###### Test 03 진짜 뉴스 테스트 ######\n",
    "file_path = '/home/hyunkoo/DATA/Uhyeon/news_test_03.txt'\n",
    "\n",
    "# 파일에서 텍스트를 읽어옵니다\n",
    "news_test_03 = read_text_from_file(file_path)\n",
    "print(news_test_03)"
   ]
  },
  {
   "cell_type": "code",
   "execution_count": null,
   "id": "239e587d-185d-4d8b-9959-55dba815e4d9",
   "metadata": {
    "id": "239e587d-185d-4d8b-9959-55dba815e4d9",
    "outputId": "fb435d6f-6b5d-418a-bea5-4674b3131256"
   },
   "outputs": [],
   "source": [
    "# 모델을 사용하여 텍스트의 유사도를 테스트합니다\n",
    "###### Test 03 진짜 뉴스 테스트 => 결과 1 출력되어야 함\n",
    "logits = test_sentences([news_test_03])\n",
    "\n",
    "print(logits)\n",
    "print(np.argmax(logits))"
   ]
  },
  {
   "cell_type": "code",
   "execution_count": null,
   "id": "f0fb9a6f-ad18-4323-b6a9-724bcd09ae5e",
   "metadata": {
    "id": "f0fb9a6f-ad18-4323-b6a9-724bcd09ae5e",
    "outputId": "f3c64c8a-fb85-41e7-9d36-7470f63a22a0"
   },
   "outputs": [],
   "source": [
    "###### (이슈) 네이버 뉴스에서 실제 기사로 테스트 해본 결과 분류가 제대로 되지 않는 문제 발생 => 결과가 모두 \"진짜뉴스 Class 1\" 으로 나옴\n",
    "###### 기존에 학습한 Train 데이터에서 가짜뉴스 5개, 진짜뉴스 5개를 가져와서 분류가 제대로 되는지 확인\n",
    "\n",
    "# 가짜뉴스 : Class 0 데이터 인덱스\n",
    "class_0_indices = [0, 6, 12, 17, 20]\n",
    "for index in class_0_indices:\n",
    "    # [CLS] + Headline + [SEP] + Content + [SEP]로 조합\n",
    "    sentences = [\"[CLS] \" + df['Headline'][index] + \" [SEP] \" + df['Content'][index] + \" [SEP]\"]\n",
    "    logits = test_sentences(sentences)\n",
    "    print(f\"가짜뉴스_Class_0_Index {index}:\")\n",
    "    print(\"Probabilities:\", logits)\n",
    "    print(\"Predicted Class:\", np.argmax(logits))\n",
    "\n",
    "# 진짜뉴스 : Class 1 데이터 인덱스\n",
    "class_1_indices = [1, 2, 3, 4, 5]\n",
    "for index in class_1_indices:\n",
    "    # [CLS] + Headline + [SEP] + Content + [SEP]로 조합\n",
    "    sentences = [\"[CLS] \" + df['Headline'][index] + \" [SEP] \" + df['Content'][index] + \" [SEP]\"]\n",
    "    logits = test_sentences(sentences)\n",
    "    print(f\"진짜뉴스_class_1_Index {index}:\")\n",
    "    print(\"Probabilities:\", logits)\n",
    "    print(\"Predicted Class:\", np.argmax(logits))"
   ]
  },
  {
   "cell_type": "code",
   "execution_count": null,
   "id": "fa0359c8-575f-4573-90f3-d20c9e1c9e96",
   "metadata": {
    "id": "fa0359c8-575f-4573-90f3-d20c9e1c9e96",
    "outputId": "516ea7af-37eb-4377-840d-02526e95a3c8"
   },
   "outputs": [],
   "source": [
    "# 데이터 로드\n",
    "df = pd.read_csv('/home/hyunkoo/DATA/Uhyeon/data_whole.csv', encoding='utf-8')\n",
    "\n",
    "# BERT 토크나이저를 로드합니다.\n",
    "tokenizer = BertTokenizer.from_pretrained('bert-base-multilingual-cased', do_lower_case=False)\n",
    "\n",
    "# 저장된 모델을 로드합니다.\n",
    "model = BertForSequenceClassification.from_pretrained('/home/hyunkoo/DATA/Uhyeon/data_whole_model.pt')\n",
    "\n",
    "# 입력 문장을 토큰화하고 BERT 모델에 맞게 변환하는 함수를 정의합니다.\n",
    "def convert_input_data(sentences):\n",
    "    tokenized_texts = [tokenizer.tokenize(sent) for sent in sentences]\n",
    "    MAX_LEN = 450\n",
    "    input_ids = [tokenizer.convert_tokens_to_ids(x) for x in tokenized_texts]\n",
    "    input_ids = pad_sequences(input_ids, maxlen=MAX_LEN, dtype=\"long\", truncating=\"post\", padding=\"post\")\n",
    "    attention_masks = []\n",
    "    for seq in input_ids:\n",
    "        seq_mask = [float(i > 0) for i in seq]\n",
    "        attention_masks.append(seq_mask)\n",
    "    inputs = torch.tensor(input_ids)\n",
    "    masks = torch.tensor(attention_masks)\n",
    "    return inputs, masks\n",
    "\n",
    "# 문장을 테스트하는 함수를 정의합니다.\n",
    "def test_sentences(sentences):\n",
    "    model.eval()\n",
    "    inputs, masks = convert_input_data(sentences)\n",
    "    b_input_ids = inputs.to(device)\n",
    "    b_input_mask = masks.to(device)\n",
    "    with torch.no_grad():\n",
    "        outputs = model(b_input_ids, token_type_ids=None, attention_mask=b_input_mask)\n",
    "    logits = outputs.logits\n",
    "    probabilities = torch.softmax(logits, dim=1)\n",
    "    probabilities = probabilities.cpu().numpy()\n",
    "    return probabilities\n",
    "\n",
    "# 가짜 뉴스 및 진짜 뉴스의 인덱스를 정의합니다.\n",
    "class_0_indices = [0, 6, 12, 17, 20]  # 가짜 뉴스\n",
    "class_1_indices = [1, 2, 3, 4, 5]    # 진짜 뉴스\n",
    "\n",
    "# 가짜 뉴스 테스트\n",
    "for index in class_0_indices:\n",
    "    sentences = [\"[CLS] \" + df['Headline'][index] + \" [SEP] \" + df['Content'][index] + \" [SEP]\"]\n",
    "    logits = test_sentences(sentences)\n",
    "    print(f\"가짜뉴스_Class_0_Index {index}:\")\n",
    "    print(\"Probabilities:\", logits)\n",
    "    print(\"Predicted Class:\", np.argmax(logits))\n",
    "\n",
    "# 진짜 뉴스 테스트\n",
    "for index in class_1_indices:\n",
    "    sentences = [\"[CLS] \" + df['Headline'][index] + \" [SEP] \" + df['Content'][index] + \" [SEP]\"]\n",
    "    logits = test_sentences(sentences)\n",
    "    print(f\"진짜뉴스_class_1_Index {index}:\")\n",
    "    print(\"Probabilities:\", logits)\n",
    "    print(\"Predicted Class:\", np.argmax(logits))"
   ]
  },
  {
   "cell_type": "code",
   "execution_count": null,
   "id": "a4c06194-3600-4663-b4aa-4de22348b32b",
   "metadata": {
    "id": "a4c06194-3600-4663-b4aa-4de22348b32b"
   },
   "outputs": [],
   "source": []
  }
 ],
 "metadata": {
  "colab": {
   "include_colab_link": true,
   "provenance": []
  },
  "kernelspec": {
   "display_name": "Python 3 (ipykernel)",
   "language": "python",
   "name": "python3"
  },
  "language_info": {
   "codemirror_mode": {
    "name": "ipython",
    "version": 3
   },
   "file_extension": ".py",
   "mimetype": "text/x-python",
   "name": "python",
   "nbconvert_exporter": "python",
   "pygments_lexer": "ipython3",
   "version": "3.10.9"
  }
 },
 "nbformat": 4,
 "nbformat_minor": 5
}
