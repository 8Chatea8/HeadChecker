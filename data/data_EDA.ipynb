{
  "cells": [
    {
      "cell_type": "markdown",
      "metadata": {
        "id": "view-in-github",
        "colab_type": "text"
      },
      "source": [
        "<a href=\"https://colab.research.google.com/github/8Chatea8/HeadChecker/blob/main/data/whole_processed_data.ipynb\" target=\"_parent\"><img src=\"https://colab.research.google.com/assets/colab-badge.svg\" alt=\"Open In Colab\"/></a>"
      ]
    },
    {
      "cell_type": "code",
      "execution_count": null,
      "metadata": {
        "id": "F0pfiTVaQam7"
      },
      "outputs": [],
      "source": [
        "!sudo apt-get install -y fonts-nanum\n",
        "!sudo fc-cache -fv\n",
        "!rm ~/.cache/matplotlib -rf"
      ]
    },
    {
      "cell_type": "code",
      "execution_count": null,
      "metadata": {
        "colab": {
          "base_uri": "https://localhost:8080/"
        },
        "id": "N9MI1va-GwEE",
        "outputId": "88fe10c5-5e31-471f-9b86-6b415278a120"
      },
      "outputs": [
        {
          "output_type": "stream",
          "name": "stdout",
          "text": [
            "Mounted at /content/drive\n"
          ]
        }
      ],
      "source": [
        "from google.colab import drive\n",
        "drive.mount('/content/drive')"
      ]
    },
    {
      "cell_type": "code",
      "execution_count": null,
      "metadata": {
        "id": "TpjYXJh5G75q"
      },
      "outputs": [],
      "source": [
        "import numpy as np\n",
        "import pandas as pd\n",
        "import matplotlib.pyplot as plt\n",
        "\n",
        "plt.rcParams['font.family'] = 'NanumBarunGothic'"
      ]
    },
    {
      "cell_type": "code",
      "execution_count": null,
      "metadata": {
        "id": "re0T2CKdHWHA"
      },
      "outputs": [],
      "source": [
        "df_so = pd.read_csv(\"/content/drive/MyDrive/Aiffel-MahiMahi/data_processed/data_SO_1.csv\")\n",
        "df_po = pd.read_csv(\"/content/drive/MyDrive/Aiffel-MahiMahi/data_processed/data_PO_1.csv\")\n",
        "df_et = pd.read_csv(\"/content/drive/MyDrive/Aiffel-MahiMahi/data_processed/data_ET_1.csv\")\n",
        "df_lc = pd.read_csv(\"/content/drive/MyDrive/Aiffel-MahiMahi/data_processed/data_LC_1.csv\")\n",
        "df_is = pd.read_csv(\"/content/drive/MyDrive/Aiffel-MahiMahi/data_processed/data_IS_1.csv\")\n",
        "df_gb = pd.read_csv(\"/content/drive/MyDrive/Aiffel-MahiMahi/data_processed/data_GB_1.csv\")\n",
        "df_ec = pd.read_csv(\"/content/drive/MyDrive/Aiffel-MahiMahi/data_processed/data_EC_1.csv\")"
      ]
    },
    {
      "cell_type": "markdown",
      "metadata": {
        "id": "7JHF-vj8JGD9"
      },
      "source": [
        "SO - 사회  \n",
        "PO - 정치  \n",
        "LC - 생활&문화  \n",
        "IS - IT&과학  \n",
        "GB - 세계  \n",
        "ET - 연예  \n",
        "EC - 경제"
      ]
    },
    {
      "cell_type": "code",
      "execution_count": null,
      "metadata": {
        "colab": {
          "base_uri": "https://localhost:8080/",
          "height": 269
        },
        "id": "rQffxcEAK2nc",
        "outputId": "fb99e794-5856-463d-afda-c7ad3272eb2d"
      },
      "outputs": [
        {
          "output_type": "execute_result",
          "data": {
            "text/plain": [
              "                                                data category\n",
              "0                                                ...       사회\n",
              "1                                               H...       정치\n",
              "2                                         Headlin...    생활&문화\n",
              "3                                Headline  \\\n",
              "0   ...    IT&과학\n",
              "4                                           Headl...       세계\n",
              "5                                   Headline  \\\n",
              "0...       연예\n",
              "6                                        Headline...       경제"
            ],
            "text/html": [
              "\n",
              "  <div id=\"df-ee06b9a3-5f69-43a8-86f3-ba4f89f2fff8\" class=\"colab-df-container\">\n",
              "    <div>\n",
              "<style scoped>\n",
              "    .dataframe tbody tr th:only-of-type {\n",
              "        vertical-align: middle;\n",
              "    }\n",
              "\n",
              "    .dataframe tbody tr th {\n",
              "        vertical-align: top;\n",
              "    }\n",
              "\n",
              "    .dataframe thead th {\n",
              "        text-align: right;\n",
              "    }\n",
              "</style>\n",
              "<table border=\"1\" class=\"dataframe\">\n",
              "  <thead>\n",
              "    <tr style=\"text-align: right;\">\n",
              "      <th></th>\n",
              "      <th>data</th>\n",
              "      <th>category</th>\n",
              "    </tr>\n",
              "  </thead>\n",
              "  <tbody>\n",
              "    <tr>\n",
              "      <th>0</th>\n",
              "      <td>...</td>\n",
              "      <td>사회</td>\n",
              "    </tr>\n",
              "    <tr>\n",
              "      <th>1</th>\n",
              "      <td>H...</td>\n",
              "      <td>정치</td>\n",
              "    </tr>\n",
              "    <tr>\n",
              "      <th>2</th>\n",
              "      <td>Headlin...</td>\n",
              "      <td>생활&amp;문화</td>\n",
              "    </tr>\n",
              "    <tr>\n",
              "      <th>3</th>\n",
              "      <td>Headline  \\\n",
              "0   ...</td>\n",
              "      <td>IT&amp;과학</td>\n",
              "    </tr>\n",
              "    <tr>\n",
              "      <th>4</th>\n",
              "      <td>Headl...</td>\n",
              "      <td>세계</td>\n",
              "    </tr>\n",
              "    <tr>\n",
              "      <th>5</th>\n",
              "      <td>Headline  \\\n",
              "0...</td>\n",
              "      <td>연예</td>\n",
              "    </tr>\n",
              "    <tr>\n",
              "      <th>6</th>\n",
              "      <td>Headline...</td>\n",
              "      <td>경제</td>\n",
              "    </tr>\n",
              "  </tbody>\n",
              "</table>\n",
              "</div>\n",
              "    <div class=\"colab-df-buttons\">\n",
              "\n",
              "  <div class=\"colab-df-container\">\n",
              "    <button class=\"colab-df-convert\" onclick=\"convertToInteractive('df-ee06b9a3-5f69-43a8-86f3-ba4f89f2fff8')\"\n",
              "            title=\"Convert this dataframe to an interactive table.\"\n",
              "            style=\"display:none;\">\n",
              "\n",
              "  <svg xmlns=\"http://www.w3.org/2000/svg\" height=\"24px\" viewBox=\"0 -960 960 960\">\n",
              "    <path d=\"M120-120v-720h720v720H120Zm60-500h600v-160H180v160Zm220 220h160v-160H400v160Zm0 220h160v-160H400v160ZM180-400h160v-160H180v160Zm440 0h160v-160H620v160ZM180-180h160v-160H180v160Zm440 0h160v-160H620v160Z\"/>\n",
              "  </svg>\n",
              "    </button>\n",
              "\n",
              "  <style>\n",
              "    .colab-df-container {\n",
              "      display:flex;\n",
              "      gap: 12px;\n",
              "    }\n",
              "\n",
              "    .colab-df-convert {\n",
              "      background-color: #E8F0FE;\n",
              "      border: none;\n",
              "      border-radius: 50%;\n",
              "      cursor: pointer;\n",
              "      display: none;\n",
              "      fill: #1967D2;\n",
              "      height: 32px;\n",
              "      padding: 0 0 0 0;\n",
              "      width: 32px;\n",
              "    }\n",
              "\n",
              "    .colab-df-convert:hover {\n",
              "      background-color: #E2EBFA;\n",
              "      box-shadow: 0px 1px 2px rgba(60, 64, 67, 0.3), 0px 1px 3px 1px rgba(60, 64, 67, 0.15);\n",
              "      fill: #174EA6;\n",
              "    }\n",
              "\n",
              "    .colab-df-buttons div {\n",
              "      margin-bottom: 4px;\n",
              "    }\n",
              "\n",
              "    [theme=dark] .colab-df-convert {\n",
              "      background-color: #3B4455;\n",
              "      fill: #D2E3FC;\n",
              "    }\n",
              "\n",
              "    [theme=dark] .colab-df-convert:hover {\n",
              "      background-color: #434B5C;\n",
              "      box-shadow: 0px 1px 3px 1px rgba(0, 0, 0, 0.15);\n",
              "      filter: drop-shadow(0px 1px 2px rgba(0, 0, 0, 0.3));\n",
              "      fill: #FFFFFF;\n",
              "    }\n",
              "  </style>\n",
              "\n",
              "    <script>\n",
              "      const buttonEl =\n",
              "        document.querySelector('#df-ee06b9a3-5f69-43a8-86f3-ba4f89f2fff8 button.colab-df-convert');\n",
              "      buttonEl.style.display =\n",
              "        google.colab.kernel.accessAllowed ? 'block' : 'none';\n",
              "\n",
              "      async function convertToInteractive(key) {\n",
              "        const element = document.querySelector('#df-ee06b9a3-5f69-43a8-86f3-ba4f89f2fff8');\n",
              "        const dataTable =\n",
              "          await google.colab.kernel.invokeFunction('convertToInteractive',\n",
              "                                                    [key], {});\n",
              "        if (!dataTable) return;\n",
              "\n",
              "        const docLinkHtml = 'Like what you see? Visit the ' +\n",
              "          '<a target=\"_blank\" href=https://colab.research.google.com/notebooks/data_table.ipynb>data table notebook</a>'\n",
              "          + ' to learn more about interactive tables.';\n",
              "        element.innerHTML = '';\n",
              "        dataTable['output_type'] = 'display_data';\n",
              "        await google.colab.output.renderOutput(dataTable, element);\n",
              "        const docLink = document.createElement('div');\n",
              "        docLink.innerHTML = docLinkHtml;\n",
              "        element.appendChild(docLink);\n",
              "      }\n",
              "    </script>\n",
              "  </div>\n",
              "\n",
              "\n",
              "<div id=\"df-4399ed91-cae7-424f-b73a-b2757a0feca7\">\n",
              "  <button class=\"colab-df-quickchart\" onclick=\"quickchart('df-4399ed91-cae7-424f-b73a-b2757a0feca7')\"\n",
              "            title=\"Suggest charts.\"\n",
              "            style=\"display:none;\">\n",
              "\n",
              "<svg xmlns=\"http://www.w3.org/2000/svg\" height=\"24px\"viewBox=\"0 0 24 24\"\n",
              "     width=\"24px\">\n",
              "    <g>\n",
              "        <path d=\"M19 3H5c-1.1 0-2 .9-2 2v14c0 1.1.9 2 2 2h14c1.1 0 2-.9 2-2V5c0-1.1-.9-2-2-2zM9 17H7v-7h2v7zm4 0h-2V7h2v10zm4 0h-2v-4h2v4z\"/>\n",
              "    </g>\n",
              "</svg>\n",
              "  </button>\n",
              "\n",
              "<style>\n",
              "  .colab-df-quickchart {\n",
              "      --bg-color: #E8F0FE;\n",
              "      --fill-color: #1967D2;\n",
              "      --hover-bg-color: #E2EBFA;\n",
              "      --hover-fill-color: #174EA6;\n",
              "      --disabled-fill-color: #AAA;\n",
              "      --disabled-bg-color: #DDD;\n",
              "  }\n",
              "\n",
              "  [theme=dark] .colab-df-quickchart {\n",
              "      --bg-color: #3B4455;\n",
              "      --fill-color: #D2E3FC;\n",
              "      --hover-bg-color: #434B5C;\n",
              "      --hover-fill-color: #FFFFFF;\n",
              "      --disabled-bg-color: #3B4455;\n",
              "      --disabled-fill-color: #666;\n",
              "  }\n",
              "\n",
              "  .colab-df-quickchart {\n",
              "    background-color: var(--bg-color);\n",
              "    border: none;\n",
              "    border-radius: 50%;\n",
              "    cursor: pointer;\n",
              "    display: none;\n",
              "    fill: var(--fill-color);\n",
              "    height: 32px;\n",
              "    padding: 0;\n",
              "    width: 32px;\n",
              "  }\n",
              "\n",
              "  .colab-df-quickchart:hover {\n",
              "    background-color: var(--hover-bg-color);\n",
              "    box-shadow: 0 1px 2px rgba(60, 64, 67, 0.3), 0 1px 3px 1px rgba(60, 64, 67, 0.15);\n",
              "    fill: var(--button-hover-fill-color);\n",
              "  }\n",
              "\n",
              "  .colab-df-quickchart-complete:disabled,\n",
              "  .colab-df-quickchart-complete:disabled:hover {\n",
              "    background-color: var(--disabled-bg-color);\n",
              "    fill: var(--disabled-fill-color);\n",
              "    box-shadow: none;\n",
              "  }\n",
              "\n",
              "  .colab-df-spinner {\n",
              "    border: 2px solid var(--fill-color);\n",
              "    border-color: transparent;\n",
              "    border-bottom-color: var(--fill-color);\n",
              "    animation:\n",
              "      spin 1s steps(1) infinite;\n",
              "  }\n",
              "\n",
              "  @keyframes spin {\n",
              "    0% {\n",
              "      border-color: transparent;\n",
              "      border-bottom-color: var(--fill-color);\n",
              "      border-left-color: var(--fill-color);\n",
              "    }\n",
              "    20% {\n",
              "      border-color: transparent;\n",
              "      border-left-color: var(--fill-color);\n",
              "      border-top-color: var(--fill-color);\n",
              "    }\n",
              "    30% {\n",
              "      border-color: transparent;\n",
              "      border-left-color: var(--fill-color);\n",
              "      border-top-color: var(--fill-color);\n",
              "      border-right-color: var(--fill-color);\n",
              "    }\n",
              "    40% {\n",
              "      border-color: transparent;\n",
              "      border-right-color: var(--fill-color);\n",
              "      border-top-color: var(--fill-color);\n",
              "    }\n",
              "    60% {\n",
              "      border-color: transparent;\n",
              "      border-right-color: var(--fill-color);\n",
              "    }\n",
              "    80% {\n",
              "      border-color: transparent;\n",
              "      border-right-color: var(--fill-color);\n",
              "      border-bottom-color: var(--fill-color);\n",
              "    }\n",
              "    90% {\n",
              "      border-color: transparent;\n",
              "      border-bottom-color: var(--fill-color);\n",
              "    }\n",
              "  }\n",
              "</style>\n",
              "\n",
              "  <script>\n",
              "    async function quickchart(key) {\n",
              "      const quickchartButtonEl =\n",
              "        document.querySelector('#' + key + ' button');\n",
              "      quickchartButtonEl.disabled = true;  // To prevent multiple clicks.\n",
              "      quickchartButtonEl.classList.add('colab-df-spinner');\n",
              "      try {\n",
              "        const charts = await google.colab.kernel.invokeFunction(\n",
              "            'suggestCharts', [key], {});\n",
              "      } catch (error) {\n",
              "        console.error('Error during call to suggestCharts:', error);\n",
              "      }\n",
              "      quickchartButtonEl.classList.remove('colab-df-spinner');\n",
              "      quickchartButtonEl.classList.add('colab-df-quickchart-complete');\n",
              "    }\n",
              "    (() => {\n",
              "      let quickchartButtonEl =\n",
              "        document.querySelector('#df-4399ed91-cae7-424f-b73a-b2757a0feca7 button');\n",
              "      quickchartButtonEl.style.display =\n",
              "        google.colab.kernel.accessAllowed ? 'block' : 'none';\n",
              "    })();\n",
              "  </script>\n",
              "</div>\n",
              "    </div>\n",
              "  </div>\n"
            ]
          },
          "metadata": {},
          "execution_count": 4
        }
      ],
      "source": [
        "metadata = pd.DataFrame({'data': [df_so, df_po, df_et, df_lc, df_is, df_gb, df_ec],\n",
        "                         'category': ['사회', '정치', '생활&문화', 'IT&과학', '세계', '연예', '경제']})\n",
        "\n",
        "metadata\n"
      ]
    },
    {
      "cell_type": "code",
      "execution_count": null,
      "metadata": {
        "colab": {
          "base_uri": "https://localhost:8080/"
        },
        "id": "kIm2nhzkIkbY",
        "outputId": "02ac80fb-ab90-4559-a881-c6de2afefa70"
      },
      "outputs": [
        {
          "output_type": "stream",
          "name": "stdout",
          "text": [
            "사회 기사의 개수: 68288\n",
            "정치 기사의 개수: 21155\n",
            "생활&문화 기사의 개수: 62051\n",
            "IT&과학 기사의 개수: 16061\n",
            "세계 기사의 개수: 35666\n",
            "연예 기사의 개수: 57516\n",
            "경제 기사의 개수: 57395\n",
            "---------------------------------------------\n",
            "총 기사의 개수: 318132\n"
          ]
        }
      ],
      "source": [
        "metadata['Count'] = metadata['data'].apply(lambda x: len(x))\n",
        "entire_count = metadata['Count'].sum()\n",
        "\n",
        "for i in range(len(metadata)):\n",
        "    print(f\"{metadata.loc[i, 'category']} 기사의 개수: {metadata.loc[i, 'Count']}\")\n",
        "print('-'*45)\n",
        "print(f'총 기사의 개수: {entire_count}')"
      ]
    },
    {
      "cell_type": "code",
      "execution_count": null,
      "metadata": {
        "colab": {
          "base_uri": "https://localhost:8080/",
          "height": 427
        },
        "id": "ndidK8waKLr4",
        "outputId": "2f31d56f-adfb-43a5-8b82-e354050af408"
      },
      "outputs": [
        {
          "output_type": "display_data",
          "data": {
            "text/plain": [
              "<Figure size 640x480 with 1 Axes>"
            ],
            "image/png": "[encoded data removed]"
          },
          "metadata": {}
        }
      ],
      "source": [
        "labels_frequency = zip(metadata['category'], metadata['Count'])\n",
        "labels_frequency = sorted(labels_frequency,key=lambda x: x[1],reverse=True)\n",
        "\n",
        "sorted_labels = [x[0] for x in labels_frequency]\n",
        "sorted_counts = [x[1] for x in labels_frequency]\n",
        "\n",
        "plt.pie(sorted_counts, labels=sorted_labels, autopct='%.2f%%', counterclock=False, startangle=90)\n",
        "plt.title(\"Percentage of Count by category\")\n",
        "plt.show()"
      ]
    },
    {
      "cell_type": "code",
      "execution_count": null,
      "metadata": {
        "colab": {
          "base_uri": "https://localhost:8080/",
          "height": 269
        },
        "id": "9mhN4bqlPrh2",
        "outputId": "d956db45-720e-484d-ba2e-b366b6ea0cb9"
      },
      "outputs": [
        {
          "output_type": "execute_result",
          "data": {
            "text/plain": [
              "                                                data category  Count  \\\n",
              "0                                                ...       사회  68288   \n",
              "1                                               H...       정치  21155   \n",
              "2                                         Headlin...    생활&문화  62051   \n",
              "3                                Headline  \\\n",
              "0   ...    IT&과학  16061   \n",
              "4                                           Headl...       세계  35666   \n",
              "5                                   Headline  \\\n",
              "0...       연예  57516   \n",
              "6                                        Headline...       경제  57395   \n",
              "\n",
              "   CountOfClass0  CountOfClass1  \n",
              "0          30041          38247  \n",
              "1          10533          10622  \n",
              "2          31267          30784  \n",
              "3           8816           7245  \n",
              "4          14225          21441  \n",
              "5          32652          24864  \n",
              "6          28130          29265  "
            ],
            "text/html": [
              "\n",
              "  <div id=\"df-6220329a-423f-4413-b251-e5d45dfb1c15\" class=\"colab-df-container\">\n",
              "    <div>\n",
              "<style scoped>\n",
              "    .dataframe tbody tr th:only-of-type {\n",
              "        vertical-align: middle;\n",
              "    }\n",
              "\n",
              "    .dataframe tbody tr th {\n",
              "        vertical-align: top;\n",
              "    }\n",
              "\n",
              "    .dataframe thead th {\n",
              "        text-align: right;\n",
              "    }\n",
              "</style>\n",
              "<table border=\"1\" class=\"dataframe\">\n",
              "  <thead>\n",
              "    <tr style=\"text-align: right;\">\n",
              "      <th></th>\n",
              "      <th>data</th>\n",
              "      <th>category</th>\n",
              "      <th>Count</th>\n",
              "      <th>CountOfClass0</th>\n",
              "      <th>CountOfClass1</th>\n",
              "    </tr>\n",
              "  </thead>\n",
              "  <tbody>\n",
              "    <tr>\n",
              "      <th>0</th>\n",
              "      <td>...</td>\n",
              "      <td>사회</td>\n",
              "      <td>68288</td>\n",
              "      <td>30041</td>\n",
              "      <td>38247</td>\n",
              "    </tr>\n",
              "    <tr>\n",
              "      <th>1</th>\n",
              "      <td>H...</td>\n",
              "      <td>정치</td>\n",
              "      <td>21155</td>\n",
              "      <td>10533</td>\n",
              "      <td>10622</td>\n",
              "    </tr>\n",
              "    <tr>\n",
              "      <th>2</th>\n",
              "      <td>Headlin...</td>\n",
              "      <td>생활&amp;문화</td>\n",
              "      <td>62051</td>\n",
              "      <td>31267</td>\n",
              "      <td>30784</td>\n",
              "    </tr>\n",
              "    <tr>\n",
              "      <th>3</th>\n",
              "      <td>Headline  \\\n",
              "0   ...</td>\n",
              "      <td>IT&amp;과학</td>\n",
              "      <td>16061</td>\n",
              "      <td>8816</td>\n",
              "      <td>7245</td>\n",
              "    </tr>\n",
              "    <tr>\n",
              "      <th>4</th>\n",
              "      <td>Headl...</td>\n",
              "      <td>세계</td>\n",
              "      <td>35666</td>\n",
              "      <td>14225</td>\n",
              "      <td>21441</td>\n",
              "    </tr>\n",
              "    <tr>\n",
              "      <th>5</th>\n",
              "      <td>Headline  \\\n",
              "0...</td>\n",
              "      <td>연예</td>\n",
              "      <td>57516</td>\n",
              "      <td>32652</td>\n",
              "      <td>24864</td>\n",
              "    </tr>\n",
              "    <tr>\n",
              "      <th>6</th>\n",
              "      <td>Headline...</td>\n",
              "      <td>경제</td>\n",
              "      <td>57395</td>\n",
              "      <td>28130</td>\n",
              "      <td>29265</td>\n",
              "    </tr>\n",
              "  </tbody>\n",
              "</table>\n",
              "</div>\n",
              "    <div class=\"colab-df-buttons\">\n",
              "\n",
              "  <div class=\"colab-df-container\">\n",
              "    <button class=\"colab-df-convert\" onclick=\"convertToInteractive('df-6220329a-423f-4413-b251-e5d45dfb1c15')\"\n",
              "            title=\"Convert this dataframe to an interactive table.\"\n",
              "            style=\"display:none;\">\n",
              "\n",
              "  <svg xmlns=\"http://www.w3.org/2000/svg\" height=\"24px\" viewBox=\"0 -960 960 960\">\n",
              "    <path d=\"M120-120v-720h720v720H120Zm60-500h600v-160H180v160Zm220 220h160v-160H400v160Zm0 220h160v-160H400v160ZM180-400h160v-160H180v160Zm440 0h160v-160H620v160ZM180-180h160v-160H180v160Zm440 0h160v-160H620v160Z\"/>\n",
              "  </svg>\n",
              "    </button>\n",
              "\n",
              "  <style>\n",
              "    .colab-df-container {\n",
              "      display:flex;\n",
              "      gap: 12px;\n",
              "    }\n",
              "\n",
              "    .colab-df-convert {\n",
              "      background-color: #E8F0FE;\n",
              "      border: none;\n",
              "      border-radius: 50%;\n",
              "      cursor: pointer;\n",
              "      display: none;\n",
              "      fill: #1967D2;\n",
              "      height: 32px;\n",
              "      padding: 0 0 0 0;\n",
              "      width: 32px;\n",
              "    }\n",
              "\n",
              "    .colab-df-convert:hover {\n",
              "      background-color: #E2EBFA;\n",
              "      box-shadow: 0px 1px 2px rgba(60, 64, 67, 0.3), 0px 1px 3px 1px rgba(60, 64, 67, 0.15);\n",
              "      fill: #174EA6;\n",
              "    }\n",
              "\n",
              "    .colab-df-buttons div {\n",
              "      margin-bottom: 4px;\n",
              "    }\n",
              "\n",
              "    [theme=dark] .colab-df-convert {\n",
              "      background-color: #3B4455;\n",
              "      fill: #D2E3FC;\n",
              "    }\n",
              "\n",
              "    [theme=dark] .colab-df-convert:hover {\n",
              "      background-color: #434B5C;\n",
              "      box-shadow: 0px 1px 3px 1px rgba(0, 0, 0, 0.15);\n",
              "      filter: drop-shadow(0px 1px 2px rgba(0, 0, 0, 0.3));\n",
              "      fill: #FFFFFF;\n",
              "    }\n",
              "  </style>\n",
              "\n",
              "    <script>\n",
              "      const buttonEl =\n",
              "        document.querySelector('#df-6220329a-423f-4413-b251-e5d45dfb1c15 button.colab-df-convert');\n",
              "      buttonEl.style.display =\n",
              "        google.colab.kernel.accessAllowed ? 'block' : 'none';\n",
              "\n",
              "      async function convertToInteractive(key) {\n",
              "        const element = document.querySelector('#df-6220329a-423f-4413-b251-e5d45dfb1c15');\n",
              "        const dataTable =\n",
              "          await google.colab.kernel.invokeFunction('convertToInteractive',\n",
              "                                                    [key], {});\n",
              "        if (!dataTable) return;\n",
              "\n",
              "        const docLinkHtml = 'Like what you see? Visit the ' +\n",
              "          '<a target=\"_blank\" href=https://colab.research.google.com/notebooks/data_table.ipynb>data table notebook</a>'\n",
              "          + ' to learn more about interactive tables.';\n",
              "        element.innerHTML = '';\n",
              "        dataTable['output_type'] = 'display_data';\n",
              "        await google.colab.output.renderOutput(dataTable, element);\n",
              "        const docLink = document.createElement('div');\n",
              "        docLink.innerHTML = docLinkHtml;\n",
              "        element.appendChild(docLink);\n",
              "      }\n",
              "    </script>\n",
              "  </div>\n",
              "\n",
              "\n",
              "<div id=\"df-b445226b-60d8-4621-aecf-3fb2a4a2551a\">\n",
              "  <button class=\"colab-df-quickchart\" onclick=\"quickchart('df-b445226b-60d8-4621-aecf-3fb2a4a2551a')\"\n",
              "            title=\"Suggest charts.\"\n",
              "            style=\"display:none;\">\n",
              "\n",
              "<svg xmlns=\"http://www.w3.org/2000/svg\" height=\"24px\"viewBox=\"0 0 24 24\"\n",
              "     width=\"24px\">\n",
              "    <g>\n",
              "        <path d=\"M19 3H5c-1.1 0-2 .9-2 2v14c0 1.1.9 2 2 2h14c1.1 0 2-.9 2-2V5c0-1.1-.9-2-2-2zM9 17H7v-7h2v7zm4 0h-2V7h2v10zm4 0h-2v-4h2v4z\"/>\n",
              "    </g>\n",
              "</svg>\n",
              "  </button>\n",
              "\n",
              "<style>\n",
              "  .colab-df-quickchart {\n",
              "      --bg-color: #E8F0FE;\n",
              "      --fill-color: #1967D2;\n",
              "      --hover-bg-color: #E2EBFA;\n",
              "      --hover-fill-color: #174EA6;\n",
              "      --disabled-fill-color: #AAA;\n",
              "      --disabled-bg-color: #DDD;\n",
              "  }\n",
              "\n",
              "  [theme=dark] .colab-df-quickchart {\n",
              "      --bg-color: #3B4455;\n",
              "      --fill-color: #D2E3FC;\n",
              "      --hover-bg-color: #434B5C;\n",
              "      --hover-fill-color: #FFFFFF;\n",
              "      --disabled-bg-color: #3B4455;\n",
              "      --disabled-fill-color: #666;\n",
              "  }\n",
              "\n",
              "  .colab-df-quickchart {\n",
              "    background-color: var(--bg-color);\n",
              "    border: none;\n",
              "    border-radius: 50%;\n",
              "    cursor: pointer;\n",
              "    display: none;\n",
              "    fill: var(--fill-color);\n",
              "    height: 32px;\n",
              "    padding: 0;\n",
              "    width: 32px;\n",
              "  }\n",
              "\n",
              "  .colab-df-quickchart:hover {\n",
              "    background-color: var(--hover-bg-color);\n",
              "    box-shadow: 0 1px 2px rgba(60, 64, 67, 0.3), 0 1px 3px 1px rgba(60, 64, 67, 0.15);\n",
              "    fill: var(--button-hover-fill-color);\n",
              "  }\n",
              "\n",
              "  .colab-df-quickchart-complete:disabled,\n",
              "  .colab-df-quickchart-complete:disabled:hover {\n",
              "    background-color: var(--disabled-bg-color);\n",
              "    fill: var(--disabled-fill-color);\n",
              "    box-shadow: none;\n",
              "  }\n",
              "\n",
              "  .colab-df-spinner {\n",
              "    border: 2px solid var(--fill-color);\n",
              "    border-color: transparent;\n",
              "    border-bottom-color: var(--fill-color);\n",
              "    animation:\n",
              "      spin 1s steps(1) infinite;\n",
              "  }\n",
              "\n",
              "  @keyframes spin {\n",
              "    0% {\n",
              "      border-color: transparent;\n",
              "      border-bottom-color: var(--fill-color);\n",
              "      border-left-color: var(--fill-color);\n",
              "    }\n",
              "    20% {\n",
              "      border-color: transparent;\n",
              "      border-left-color: var(--fill-color);\n",
              "      border-top-color: var(--fill-color);\n",
              "    }\n",
              "    30% {\n",
              "      border-color: transparent;\n",
              "      border-left-color: var(--fill-color);\n",
              "      border-top-color: var(--fill-color);\n",
              "      border-right-color: var(--fill-color);\n",
              "    }\n",
              "    40% {\n",
              "      border-color: transparent;\n",
              "      border-right-color: var(--fill-color);\n",
              "      border-top-color: var(--fill-color);\n",
              "    }\n",
              "    60% {\n",
              "      border-color: transparent;\n",
              "      border-right-color: var(--fill-color);\n",
              "    }\n",
              "    80% {\n",
              "      border-color: transparent;\n",
              "      border-right-color: var(--fill-color);\n",
              "      border-bottom-color: var(--fill-color);\n",
              "    }\n",
              "    90% {\n",
              "      border-color: transparent;\n",
              "      border-bottom-color: var(--fill-color);\n",
              "    }\n",
              "  }\n",
              "</style>\n",
              "\n",
              "  <script>\n",
              "    async function quickchart(key) {\n",
              "      const quickchartButtonEl =\n",
              "        document.querySelector('#' + key + ' button');\n",
              "      quickchartButtonEl.disabled = true;  // To prevent multiple clicks.\n",
              "      quickchartButtonEl.classList.add('colab-df-spinner');\n",
              "      try {\n",
              "        const charts = await google.colab.kernel.invokeFunction(\n",
              "            'suggestCharts', [key], {});\n",
              "      } catch (error) {\n",
              "        console.error('Error during call to suggestCharts:', error);\n",
              "      }\n",
              "      quickchartButtonEl.classList.remove('colab-df-spinner');\n",
              "      quickchartButtonEl.classList.add('colab-df-quickchart-complete');\n",
              "    }\n",
              "    (() => {\n",
              "      let quickchartButtonEl =\n",
              "        document.querySelector('#df-b445226b-60d8-4621-aecf-3fb2a4a2551a button');\n",
              "      quickchartButtonEl.style.display =\n",
              "        google.colab.kernel.accessAllowed ? 'block' : 'none';\n",
              "    })();\n",
              "  </script>\n",
              "</div>\n",
              "    </div>\n",
              "  </div>\n"
            ]
          },
          "metadata": {},
          "execution_count": 7
        }
      ],
      "source": [
        "metadata['CountOfClass0'] = metadata['data'].apply(lambda x: (x['Class']==0).sum())\n",
        "metadata['CountOfClass1'] = metadata['data'].apply(lambda x: (x['Class']==1).sum())\n",
        "\n",
        "metadata"
      ]
    },
    {
      "cell_type": "code",
      "execution_count": null,
      "metadata": {
        "colab": {
          "base_uri": "https://localhost:8080/",
          "height": 427
        },
        "id": "hvJXNe1pWLbc",
        "outputId": "e5fbf9cd-ee17-4069-b27c-1c1837849806"
      },
      "outputs": [
        {
          "output_type": "display_data",
          "data": {
            "text/plain": [
              "<Figure size 640x480 with 1 Axes>"
            ],
            "image/png": "[encoded data removed]"
          },
          "metadata": {}
        }
      ],
      "source": [
        "count_of_0 = metadata['CountOfClass0'].sum()\n",
        "count_of_1 = metadata['CountOfClass1'].sum()\n",
        "\n",
        "plt.pie([count_of_0, count_of_1], labels=['낚시기사', '정상기사'], autopct='%.2f%%', counterclock=False, startangle=90)\n",
        "plt.title('Percentage of Class')\n",
        "plt.show()"
      ]
    },
    {
      "cell_type": "code",
      "execution_count": null,
      "metadata": {
        "colab": {
          "base_uri": "https://localhost:8080/",
          "height": 451
        },
        "id": "OaRJ_goTWzRM",
        "outputId": "dde94a76-10bf-4451-875c-a1af25b98ac1"
      },
      "outputs": [
        {
          "output_type": "display_data",
          "data": {
            "text/plain": [
              "<Figure size 640x480 with 1 Axes>"
            ],
            "image/png": "[encoded data removed]"
          },
          "metadata": {}
        }
      ],
      "source": [
        "x = np.arange(len(metadata))\n",
        "width = 0.25\n",
        "multiplier = 0\n",
        "\n",
        "labels_counts = zip(metadata['category'], metadata['Count'], metadata['CountOfClass0'], metadata['CountOfClass1'])\n",
        "labels_counts =  sorted(labels_counts,key=lambda x: x[1],reverse=False)\n",
        "\n",
        "sorted_label = [labels_counts[i][0] for i in range(len(labels_counts))]\n",
        "\n",
        "counts_dict_key = ['총 기사의 개수', '낚시 기사의 개수', '정상 기사의 개수']\n",
        "counts_dict_value_whole = [labels_counts[i][1] for i in range(len(labels_counts))]\n",
        "counts_dict_value_0 = [labels_counts[i][2] for i in range(len(labels_counts))]\n",
        "counts_dict_value_1 = [labels_counts[i][3] for i in range(len(labels_counts))]\n",
        "counts_dict_value = [counts_dict_value_whole, counts_dict_value_0, counts_dict_value_1]\n",
        "\n",
        "counts_dict = {k:v for k, v in zip(counts_dict_key, counts_dict_value)}\n",
        "\n",
        "for category, counts in counts_dict.items():\n",
        "    offset = width * multiplier\n",
        "    rects = plt.bar(x+offset, counts, width, label=category)\n",
        "    multiplier +=1\n",
        "\n",
        "plt.title('Counts of aritcles')\n",
        "plt.xticks(x+width, sorted_label)\n",
        "plt.legend()\n",
        "plt.show()"
      ]
    },
    {
      "cell_type": "markdown",
      "source": [
        "BERT의 입력 문장 길이 한계로 너무 긴 기사들은 제외했습니다.  \n",
        "그 과정에서 IT & 과학 분야, 정치 분야, 세계 분야의 기사들이 많이 삭제되었습니다."
      ],
      "metadata": {
        "id": "O7cqIsFvT-hT"
      }
    },
    {
      "cell_type": "code",
      "execution_count": null,
      "metadata": {
        "colab": {
          "base_uri": "https://localhost:8080/",
          "height": 293
        },
        "id": "7tThZaeLa1p4",
        "outputId": "3cab7eee-25dc-4ed9-ee69-c8202799eeea"
      },
      "outputs": [
        {
          "output_type": "execute_result",
          "data": {
            "text/plain": [
              "                                           Headline  \\\n",
              "0          광주지역 소상공인의 외침... 코로나 직격탄 맞은 소상공인 도울 방법은?   \n",
              "1  “과일 껍질 세척 후 드세요”…경기보건환경硏, 과일 껍질 잔류농약 검출률 과육의 10배   \n",
              "2                        늙은 부모님 악몽 꾼다면…이 병 걸릴 확률 높다   \n",
              "3                13세 친딸 몸쓸짓하고 “친구 소개해줘… 40대父 징역 12년   \n",
              "4                        경과원, 인공지능?가상현실 기술 성과공유회 개최   \n",
              "\n",
              "                                             Content  Class  HeadlineLen  \\\n",
              "0  신종 코로나바이러스 감염증 직격탄을 맞은 소상공인들이 저마다 절박한 심정으로 지원을...      0           40   \n",
              "1  경기도보건환경연구원은 지난해 1월부터 8월까지 온라인 및 도내 대형마트에서 유통된 ...      1           48   \n",
              "2  노년에 악몽을 자주 꾸는 것은 파킨슨병을 예고하는 경고 신호일 수 있다는 연구 결과...      1           26   \n",
              "3  13세 친딸을 수차례 성폭행하고 학대한 혐의로 재판에 넘겨진 40대 남성에게 법원이...      1           34   \n",
              "4  경기도경제과학진흥원은 16일부터 이틀간 경기창조경제혁신센터 국제회의장에서‘2021 ...      1           26   \n",
              "\n",
              "   ContentLen  countOfsentences  \n",
              "0         702                10  \n",
              "1         570                 7  \n",
              "2         733                12  \n",
              "3         605                 8  \n",
              "4         665                 6  "
            ],
            "text/html": [
              "\n",
              "  <div id=\"df-0a8676b3-8ad9-49b9-bc97-51cd2c99a615\" class=\"colab-df-container\">\n",
              "    <div>\n",
              "<style scoped>\n",
              "    .dataframe tbody tr th:only-of-type {\n",
              "        vertical-align: middle;\n",
              "    }\n",
              "\n",
              "    .dataframe tbody tr th {\n",
              "        vertical-align: top;\n",
              "    }\n",
              "\n",
              "    .dataframe thead th {\n",
              "        text-align: right;\n",
              "    }\n",
              "</style>\n",
              "<table border=\"1\" class=\"dataframe\">\n",
              "  <thead>\n",
              "    <tr style=\"text-align: right;\">\n",
              "      <th></th>\n",
              "      <th>Headline</th>\n",
              "      <th>Content</th>\n",
              "      <th>Class</th>\n",
              "      <th>HeadlineLen</th>\n",
              "      <th>ContentLen</th>\n",
              "      <th>countOfsentences</th>\n",
              "    </tr>\n",
              "  </thead>\n",
              "  <tbody>\n",
              "    <tr>\n",
              "      <th>0</th>\n",
              "      <td>광주지역 소상공인의 외침... 코로나 직격탄 맞은 소상공인 도울 방법은?</td>\n",
              "      <td>신종 코로나바이러스 감염증 직격탄을 맞은 소상공인들이 저마다 절박한 심정으로 지원을...</td>\n",
              "      <td>0</td>\n",
              "      <td>40</td>\n",
              "      <td>702</td>\n",
              "      <td>10</td>\n",
              "    </tr>\n",
              "    <tr>\n",
              "      <th>1</th>\n",
              "      <td>“과일 껍질 세척 후 드세요”…경기보건환경硏, 과일 껍질 잔류농약 검출률 과육의 10배</td>\n",
              "      <td>경기도보건환경연구원은 지난해 1월부터 8월까지 온라인 및 도내 대형마트에서 유통된 ...</td>\n",
              "      <td>1</td>\n",
              "      <td>48</td>\n",
              "      <td>570</td>\n",
              "      <td>7</td>\n",
              "    </tr>\n",
              "    <tr>\n",
              "      <th>2</th>\n",
              "      <td>늙은 부모님 악몽 꾼다면…이 병 걸릴 확률 높다</td>\n",
              "      <td>노년에 악몽을 자주 꾸는 것은 파킨슨병을 예고하는 경고 신호일 수 있다는 연구 결과...</td>\n",
              "      <td>1</td>\n",
              "      <td>26</td>\n",
              "      <td>733</td>\n",
              "      <td>12</td>\n",
              "    </tr>\n",
              "    <tr>\n",
              "      <th>3</th>\n",
              "      <td>13세 친딸 몸쓸짓하고 “친구 소개해줘… 40대父 징역 12년</td>\n",
              "      <td>13세 친딸을 수차례 성폭행하고 학대한 혐의로 재판에 넘겨진 40대 남성에게 법원이...</td>\n",
              "      <td>1</td>\n",
              "      <td>34</td>\n",
              "      <td>605</td>\n",
              "      <td>8</td>\n",
              "    </tr>\n",
              "    <tr>\n",
              "      <th>4</th>\n",
              "      <td>경과원, 인공지능?가상현실 기술 성과공유회 개최</td>\n",
              "      <td>경기도경제과학진흥원은 16일부터 이틀간 경기창조경제혁신센터 국제회의장에서‘2021 ...</td>\n",
              "      <td>1</td>\n",
              "      <td>26</td>\n",
              "      <td>665</td>\n",
              "      <td>6</td>\n",
              "    </tr>\n",
              "  </tbody>\n",
              "</table>\n",
              "</div>\n",
              "    <div class=\"colab-df-buttons\">\n",
              "\n",
              "  <div class=\"colab-df-container\">\n",
              "    <button class=\"colab-df-convert\" onclick=\"convertToInteractive('df-0a8676b3-8ad9-49b9-bc97-51cd2c99a615')\"\n",
              "            title=\"Convert this dataframe to an interactive table.\"\n",
              "            style=\"display:none;\">\n",
              "\n",
              "  <svg xmlns=\"http://www.w3.org/2000/svg\" height=\"24px\" viewBox=\"0 -960 960 960\">\n",
              "    <path d=\"M120-120v-720h720v720H120Zm60-500h600v-160H180v160Zm220 220h160v-160H400v160Zm0 220h160v-160H400v160ZM180-400h160v-160H180v160Zm440 0h160v-160H620v160ZM180-180h160v-160H180v160Zm440 0h160v-160H620v160Z\"/>\n",
              "  </svg>\n",
              "    </button>\n",
              "\n",
              "  <style>\n",
              "    .colab-df-container {\n",
              "      display:flex;\n",
              "      gap: 12px;\n",
              "    }\n",
              "\n",
              "    .colab-df-convert {\n",
              "      background-color: #E8F0FE;\n",
              "      border: none;\n",
              "      border-radius: 50%;\n",
              "      cursor: pointer;\n",
              "      display: none;\n",
              "      fill: #1967D2;\n",
              "      height: 32px;\n",
              "      padding: 0 0 0 0;\n",
              "      width: 32px;\n",
              "    }\n",
              "\n",
              "    .colab-df-convert:hover {\n",
              "      background-color: #E2EBFA;\n",
              "      box-shadow: 0px 1px 2px rgba(60, 64, 67, 0.3), 0px 1px 3px 1px rgba(60, 64, 67, 0.15);\n",
              "      fill: #174EA6;\n",
              "    }\n",
              "\n",
              "    .colab-df-buttons div {\n",
              "      margin-bottom: 4px;\n",
              "    }\n",
              "\n",
              "    [theme=dark] .colab-df-convert {\n",
              "      background-color: #3B4455;\n",
              "      fill: #D2E3FC;\n",
              "    }\n",
              "\n",
              "    [theme=dark] .colab-df-convert:hover {\n",
              "      background-color: #434B5C;\n",
              "      box-shadow: 0px 1px 3px 1px rgba(0, 0, 0, 0.15);\n",
              "      filter: drop-shadow(0px 1px 2px rgba(0, 0, 0, 0.3));\n",
              "      fill: #FFFFFF;\n",
              "    }\n",
              "  </style>\n",
              "\n",
              "    <script>\n",
              "      const buttonEl =\n",
              "        document.querySelector('#df-0a8676b3-8ad9-49b9-bc97-51cd2c99a615 button.colab-df-convert');\n",
              "      buttonEl.style.display =\n",
              "        google.colab.kernel.accessAllowed ? 'block' : 'none';\n",
              "\n",
              "      async function convertToInteractive(key) {\n",
              "        const element = document.querySelector('#df-0a8676b3-8ad9-49b9-bc97-51cd2c99a615');\n",
              "        const dataTable =\n",
              "          await google.colab.kernel.invokeFunction('convertToInteractive',\n",
              "                                                    [key], {});\n",
              "        if (!dataTable) return;\n",
              "\n",
              "        const docLinkHtml = 'Like what you see? Visit the ' +\n",
              "          '<a target=\"_blank\" href=https://colab.research.google.com/notebooks/data_table.ipynb>data table notebook</a>'\n",
              "          + ' to learn more about interactive tables.';\n",
              "        element.innerHTML = '';\n",
              "        dataTable['output_type'] = 'display_data';\n",
              "        await google.colab.output.renderOutput(dataTable, element);\n",
              "        const docLink = document.createElement('div');\n",
              "        docLink.innerHTML = docLinkHtml;\n",
              "        element.appendChild(docLink);\n",
              "      }\n",
              "    </script>\n",
              "  </div>\n",
              "\n",
              "\n",
              "<div id=\"df-fa1c7b52-25aa-4480-b657-6c21fad1a080\">\n",
              "  <button class=\"colab-df-quickchart\" onclick=\"quickchart('df-fa1c7b52-25aa-4480-b657-6c21fad1a080')\"\n",
              "            title=\"Suggest charts.\"\n",
              "            style=\"display:none;\">\n",
              "\n",
              "<svg xmlns=\"http://www.w3.org/2000/svg\" height=\"24px\"viewBox=\"0 0 24 24\"\n",
              "     width=\"24px\">\n",
              "    <g>\n",
              "        <path d=\"M19 3H5c-1.1 0-2 .9-2 2v14c0 1.1.9 2 2 2h14c1.1 0 2-.9 2-2V5c0-1.1-.9-2-2-2zM9 17H7v-7h2v7zm4 0h-2V7h2v10zm4 0h-2v-4h2v4z\"/>\n",
              "    </g>\n",
              "</svg>\n",
              "  </button>\n",
              "\n",
              "<style>\n",
              "  .colab-df-quickchart {\n",
              "      --bg-color: #E8F0FE;\n",
              "      --fill-color: #1967D2;\n",
              "      --hover-bg-color: #E2EBFA;\n",
              "      --hover-fill-color: #174EA6;\n",
              "      --disabled-fill-color: #AAA;\n",
              "      --disabled-bg-color: #DDD;\n",
              "  }\n",
              "\n",
              "  [theme=dark] .colab-df-quickchart {\n",
              "      --bg-color: #3B4455;\n",
              "      --fill-color: #D2E3FC;\n",
              "      --hover-bg-color: #434B5C;\n",
              "      --hover-fill-color: #FFFFFF;\n",
              "      --disabled-bg-color: #3B4455;\n",
              "      --disabled-fill-color: #666;\n",
              "  }\n",
              "\n",
              "  .colab-df-quickchart {\n",
              "    background-color: var(--bg-color);\n",
              "    border: none;\n",
              "    border-radius: 50%;\n",
              "    cursor: pointer;\n",
              "    display: none;\n",
              "    fill: var(--fill-color);\n",
              "    height: 32px;\n",
              "    padding: 0;\n",
              "    width: 32px;\n",
              "  }\n",
              "\n",
              "  .colab-df-quickchart:hover {\n",
              "    background-color: var(--hover-bg-color);\n",
              "    box-shadow: 0 1px 2px rgba(60, 64, 67, 0.3), 0 1px 3px 1px rgba(60, 64, 67, 0.15);\n",
              "    fill: var(--button-hover-fill-color);\n",
              "  }\n",
              "\n",
              "  .colab-df-quickchart-complete:disabled,\n",
              "  .colab-df-quickchart-complete:disabled:hover {\n",
              "    background-color: var(--disabled-bg-color);\n",
              "    fill: var(--disabled-fill-color);\n",
              "    box-shadow: none;\n",
              "  }\n",
              "\n",
              "  .colab-df-spinner {\n",
              "    border: 2px solid var(--fill-color);\n",
              "    border-color: transparent;\n",
              "    border-bottom-color: var(--fill-color);\n",
              "    animation:\n",
              "      spin 1s steps(1) infinite;\n",
              "  }\n",
              "\n",
              "  @keyframes spin {\n",
              "    0% {\n",
              "      border-color: transparent;\n",
              "      border-bottom-color: var(--fill-color);\n",
              "      border-left-color: var(--fill-color);\n",
              "    }\n",
              "    20% {\n",
              "      border-color: transparent;\n",
              "      border-left-color: var(--fill-color);\n",
              "      border-top-color: var(--fill-color);\n",
              "    }\n",
              "    30% {\n",
              "      border-color: transparent;\n",
              "      border-left-color: var(--fill-color);\n",
              "      border-top-color: var(--fill-color);\n",
              "      border-right-color: var(--fill-color);\n",
              "    }\n",
              "    40% {\n",
              "      border-color: transparent;\n",
              "      border-right-color: var(--fill-color);\n",
              "      border-top-color: var(--fill-color);\n",
              "    }\n",
              "    60% {\n",
              "      border-color: transparent;\n",
              "      border-right-color: var(--fill-color);\n",
              "    }\n",
              "    80% {\n",
              "      border-color: transparent;\n",
              "      border-right-color: var(--fill-color);\n",
              "      border-bottom-color: var(--fill-color);\n",
              "    }\n",
              "    90% {\n",
              "      border-color: transparent;\n",
              "      border-bottom-color: var(--fill-color);\n",
              "    }\n",
              "  }\n",
              "</style>\n",
              "\n",
              "  <script>\n",
              "    async function quickchart(key) {\n",
              "      const quickchartButtonEl =\n",
              "        document.querySelector('#' + key + ' button');\n",
              "      quickchartButtonEl.disabled = true;  // To prevent multiple clicks.\n",
              "      quickchartButtonEl.classList.add('colab-df-spinner');\n",
              "      try {\n",
              "        const charts = await google.colab.kernel.invokeFunction(\n",
              "            'suggestCharts', [key], {});\n",
              "      } catch (error) {\n",
              "        console.error('Error during call to suggestCharts:', error);\n",
              "      }\n",
              "      quickchartButtonEl.classList.remove('colab-df-spinner');\n",
              "      quickchartButtonEl.classList.add('colab-df-quickchart-complete');\n",
              "    }\n",
              "    (() => {\n",
              "      let quickchartButtonEl =\n",
              "        document.querySelector('#df-fa1c7b52-25aa-4480-b657-6c21fad1a080 button');\n",
              "      quickchartButtonEl.style.display =\n",
              "        google.colab.kernel.accessAllowed ? 'block' : 'none';\n",
              "    })();\n",
              "  </script>\n",
              "</div>\n",
              "    </div>\n",
              "  </div>\n"
            ]
          },
          "metadata": {},
          "execution_count": 72
        }
      ],
      "source": [
        "data = pd.concat([df_so, df_po, df_et, df_lc, df_is, df_gb, df_ec],axis=0)\n",
        "data.head()"
      ]
    },
    {
      "cell_type": "code",
      "execution_count": null,
      "metadata": {
        "colab": {
          "base_uri": "https://localhost:8080/"
        },
        "id": "n2SGVNTjv09v",
        "outputId": "feabe5f2-a930-4022-81b8-383a8657ccf2"
      },
      "outputs": [
        {
          "output_type": "execute_result",
          "data": {
            "text/plain": [
              "318131"
            ]
          },
          "metadata": {},
          "execution_count": 73
        }
      ],
      "source": [
        "len(data)"
      ]
    },
    {
      "cell_type": "code",
      "execution_count": null,
      "metadata": {
        "id": "2okLT5u5v3c_"
      },
      "outputs": [],
      "source": [
        "data.to_csv('data_whole.csv', index=False, encoding='utf-8')"
      ]
    },
    {
      "cell_type": "code",
      "execution_count": null,
      "metadata": {
        "colab": {
          "base_uri": "https://localhost:8080/"
        },
        "id": "DhBcUEIfwM8n",
        "outputId": "a196be5e-fedf-4812-93a2-157bdb9620bc"
      },
      "outputs": [
        {
          "output_type": "stream",
          "name": "stdout",
          "text": [
            "5\n",
            "5\n",
            "5\n",
            "4\n",
            "3\n",
            "3\n",
            "3\n"
          ]
        }
      ],
      "source": [
        "# for df in metadata['data']:\n",
        "#     df['HeadlineLen'] = df['Headline'].apply(lambda x: len(x))\n",
        "df_list = [df_so, df_po, df_et, df_lc, df_is, df_gb, df_ec]\n",
        "for df in df_list:\n",
        "    print(len(df.columns))"
      ]
    },
    {
      "cell_type": "markdown",
      "source": [
        "헤드라인 길이를기록하는 코드가 에러가 나서 살펴보니 df_lc에서 결측값이 존재했습니다.\n",
        "결측값이 존재하는 행을 확인하고 지우는 작업을 진행했습니다."
      ],
      "metadata": {
        "id": "h4rq8X4CTmA0"
      }
    },
    {
      "cell_type": "code",
      "source": [
        "df_lc['Headline'].info()"
      ],
      "metadata": {
        "colab": {
          "base_uri": "https://localhost:8080/"
        },
        "id": "K4jvgUxZiD7b",
        "outputId": "87ef88d3-72a8-420a-be66-523ff0e429ad"
      },
      "execution_count": null,
      "outputs": [
        {
          "output_type": "stream",
          "name": "stdout",
          "text": [
            "<class 'pandas.core.series.Series'>\n",
            "RangeIndex: 16061 entries, 0 to 16060\n",
            "Series name: Headline\n",
            "Non-Null Count  Dtype \n",
            "--------------  ----- \n",
            "16060 non-null  object\n",
            "dtypes: object(1)\n",
            "memory usage: 125.6+ KB\n"
          ]
        }
      ]
    },
    {
      "cell_type": "code",
      "source": [
        "for value in df_lc['Headline']:\n",
        "    if type(value) == float:\n",
        "        print(value)"
      ],
      "metadata": {
        "colab": {
          "base_uri": "https://localhost:8080/"
        },
        "id": "FXKyvpABkP_e",
        "outputId": "6bef01a5-6a9a-4120-8189-7a9047b1afcb"
      },
      "execution_count": null,
      "outputs": [
        {
          "output_type": "stream",
          "name": "stdout",
          "text": [
            "nan\n"
          ]
        }
      ]
    },
    {
      "cell_type": "code",
      "source": [
        "nan_index = df_lc.index[df_lc['Headline'].isnull()]\n",
        "print(nan_index)"
      ],
      "metadata": {
        "colab": {
          "base_uri": "https://localhost:8080/"
        },
        "id": "dj9uCwF5thrv",
        "outputId": "36f98cb2-8e91-41d7-b6c5-c91efff90480"
      },
      "execution_count": null,
      "outputs": [
        {
          "output_type": "stream",
          "name": "stdout",
          "text": [
            "Int64Index([12499], dtype='int64')\n"
          ]
        }
      ]
    },
    {
      "cell_type": "code",
      "source": [
        "df_lc.loc[12499, :]"
      ],
      "metadata": {
        "colab": {
          "base_uri": "https://localhost:8080/"
        },
        "id": "5JTwSeu0u0gc",
        "outputId": "cb9abaa1-0b1f-429b-95d3-ef22cf0b37ed"
      },
      "execution_count": null,
      "outputs": [
        {
          "output_type": "execute_result",
          "data": {
            "text/plain": [
              "Headline                                                     NaN\n",
              "Content        중앙일보와 교보문고가 학과 공부에 치우치고 있는 청소년들에게 교양을 높이는 데 도움...\n",
              "Class                                                          1\n",
              "HeadlineLen                                                   32\n",
              "Name: 12499, dtype: object"
            ]
          },
          "metadata": {},
          "execution_count": 64
        }
      ]
    },
    {
      "cell_type": "code",
      "source": [
        "df_lc = df_lc.dropna()\n",
        "\n",
        "df_lc.shape"
      ],
      "metadata": {
        "colab": {
          "base_uri": "https://localhost:8080/"
        },
        "id": "5gMEG6f1u7a-",
        "outputId": "cc64d709-44dd-45b0-df21-d6d8fcdeacd7"
      },
      "execution_count": null,
      "outputs": [
        {
          "output_type": "execute_result",
          "data": {
            "text/plain": [
              "(16060, 4)"
            ]
          },
          "metadata": {},
          "execution_count": 65
        }
      ]
    },
    {
      "cell_type": "code",
      "source": [
        "df_lc['Headline'].isnull().sum()"
      ],
      "metadata": {
        "colab": {
          "base_uri": "https://localhost:8080/"
        },
        "id": "7guoAhuht_H6",
        "outputId": "f4bffe43-9ded-4e6b-e999-153b2fcd211d"
      },
      "execution_count": null,
      "outputs": [
        {
          "output_type": "execute_result",
          "data": {
            "text/plain": [
              "0"
            ]
          },
          "metadata": {},
          "execution_count": 66
        }
      ]
    },
    {
      "cell_type": "code",
      "execution_count": null,
      "metadata": {
        "colab": {
          "base_uri": "https://localhost:8080/"
        },
        "id": "wvmgLhcPQM82",
        "outputId": "6e6ee15c-7c56-40e8-a295-0d56a807a1b6"
      },
      "outputs": [
        {
          "output_type": "stream",
          "name": "stdout",
          "text": [
            "5\n",
            "5\n",
            "5\n",
            "5\n",
            "5\n",
            "5\n",
            "5\n"
          ]
        }
      ],
      "source": [
        "for df in  df_list:\n",
        "    df['HeadlineLen'] = df['Headline'].apply(lambda x: len(x))\n",
        "    df['ContentLen'] = df['Content'].apply(lambda x: len(x))\n",
        "\n",
        "for df in  df_list:\n",
        "    print(len(df.columns))"
      ]
    },
    {
      "cell_type": "code",
      "execution_count": null,
      "metadata": {
        "id": "1uS9xWvpQqut"
      },
      "outputs": [],
      "source": [
        "def count_of_sentences(sentences):\n",
        "    sentences_list = sentences.split('\\n')\n",
        "    return len(sentences_list)"
      ]
    },
    {
      "cell_type": "code",
      "execution_count": null,
      "metadata": {
        "colab": {
          "base_uri": "https://localhost:8080/"
        },
        "id": "X97JnGiuXus8",
        "outputId": "7489a237-7b5d-4cca-af30-95964a50caa2"
      },
      "outputs": [
        {
          "output_type": "stream",
          "name": "stdout",
          "text": [
            "6\n",
            "6\n",
            "6\n",
            "6\n",
            "6\n",
            "6\n",
            "6\n"
          ]
        }
      ],
      "source": [
        "for df in df_list:\n",
        "    df['countOfsentences'] = df['Content'].apply(lambda x: count_of_sentences(x))\n",
        "\n",
        "for df in df_list:\n",
        "    print(len(df.columns))"
      ]
    },
    {
      "cell_type": "code",
      "source": [
        "data = pd.concat([df_so, df_po, df_et, df_lc, df_is, df_gb, df_ec],axis=0)\n",
        "data.head()"
      ],
      "metadata": {
        "colab": {
          "base_uri": "https://localhost:8080/",
          "height": 293
        },
        "id": "YyBk0KOuyPZ0",
        "outputId": "213c6fdd-57e8-4aeb-8922-ac3322503a8b"
      },
      "execution_count": null,
      "outputs": [
        {
          "output_type": "execute_result",
          "data": {
            "text/plain": [
              "                                           Headline  \\\n",
              "0          광주지역 소상공인의 외침... 코로나 직격탄 맞은 소상공인 도울 방법은?   \n",
              "1  “과일 껍질 세척 후 드세요”…경기보건환경硏, 과일 껍질 잔류농약 검출률 과육의 10배   \n",
              "2                        늙은 부모님 악몽 꾼다면…이 병 걸릴 확률 높다   \n",
              "3                13세 친딸 몸쓸짓하고 “친구 소개해줘… 40대父 징역 12년   \n",
              "4                        경과원, 인공지능?가상현실 기술 성과공유회 개최   \n",
              "\n",
              "                                             Content  Class  HeadlineLen  \\\n",
              "0  신종 코로나바이러스 감염증 직격탄을 맞은 소상공인들이 저마다 절박한 심정으로 지원을...      0           40   \n",
              "1  경기도보건환경연구원은 지난해 1월부터 8월까지 온라인 및 도내 대형마트에서 유통된 ...      1           48   \n",
              "2  노년에 악몽을 자주 꾸는 것은 파킨슨병을 예고하는 경고 신호일 수 있다는 연구 결과...      1           26   \n",
              "3  13세 친딸을 수차례 성폭행하고 학대한 혐의로 재판에 넘겨진 40대 남성에게 법원이...      1           34   \n",
              "4  경기도경제과학진흥원은 16일부터 이틀간 경기창조경제혁신센터 국제회의장에서‘2021 ...      1           26   \n",
              "\n",
              "   ContentLen  countOfsentences  \n",
              "0         702                10  \n",
              "1         570                 7  \n",
              "2         733                12  \n",
              "3         605                 8  \n",
              "4         665                 6  "
            ],
            "text/html": [
              "\n",
              "  <div id=\"df-0c96e4a3-7171-48c7-8386-e5c0408fbce2\" class=\"colab-df-container\">\n",
              "    <div>\n",
              "<style scoped>\n",
              "    .dataframe tbody tr th:only-of-type {\n",
              "        vertical-align: middle;\n",
              "    }\n",
              "\n",
              "    .dataframe tbody tr th {\n",
              "        vertical-align: top;\n",
              "    }\n",
              "\n",
              "    .dataframe thead th {\n",
              "        text-align: right;\n",
              "    }\n",
              "</style>\n",
              "<table border=\"1\" class=\"dataframe\">\n",
              "  <thead>\n",
              "    <tr style=\"text-align: right;\">\n",
              "      <th></th>\n",
              "      <th>Headline</th>\n",
              "      <th>Content</th>\n",
              "      <th>Class</th>\n",
              "      <th>HeadlineLen</th>\n",
              "      <th>ContentLen</th>\n",
              "      <th>countOfsentences</th>\n",
              "    </tr>\n",
              "  </thead>\n",
              "  <tbody>\n",
              "    <tr>\n",
              "      <th>0</th>\n",
              "      <td>광주지역 소상공인의 외침... 코로나 직격탄 맞은 소상공인 도울 방법은?</td>\n",
              "      <td>신종 코로나바이러스 감염증 직격탄을 맞은 소상공인들이 저마다 절박한 심정으로 지원을...</td>\n",
              "      <td>0</td>\n",
              "      <td>40</td>\n",
              "      <td>702</td>\n",
              "      <td>10</td>\n",
              "    </tr>\n",
              "    <tr>\n",
              "      <th>1</th>\n",
              "      <td>“과일 껍질 세척 후 드세요”…경기보건환경硏, 과일 껍질 잔류농약 검출률 과육의 10배</td>\n",
              "      <td>경기도보건환경연구원은 지난해 1월부터 8월까지 온라인 및 도내 대형마트에서 유통된 ...</td>\n",
              "      <td>1</td>\n",
              "      <td>48</td>\n",
              "      <td>570</td>\n",
              "      <td>7</td>\n",
              "    </tr>\n",
              "    <tr>\n",
              "      <th>2</th>\n",
              "      <td>늙은 부모님 악몽 꾼다면…이 병 걸릴 확률 높다</td>\n",
              "      <td>노년에 악몽을 자주 꾸는 것은 파킨슨병을 예고하는 경고 신호일 수 있다는 연구 결과...</td>\n",
              "      <td>1</td>\n",
              "      <td>26</td>\n",
              "      <td>733</td>\n",
              "      <td>12</td>\n",
              "    </tr>\n",
              "    <tr>\n",
              "      <th>3</th>\n",
              "      <td>13세 친딸 몸쓸짓하고 “친구 소개해줘… 40대父 징역 12년</td>\n",
              "      <td>13세 친딸을 수차례 성폭행하고 학대한 혐의로 재판에 넘겨진 40대 남성에게 법원이...</td>\n",
              "      <td>1</td>\n",
              "      <td>34</td>\n",
              "      <td>605</td>\n",
              "      <td>8</td>\n",
              "    </tr>\n",
              "    <tr>\n",
              "      <th>4</th>\n",
              "      <td>경과원, 인공지능?가상현실 기술 성과공유회 개최</td>\n",
              "      <td>경기도경제과학진흥원은 16일부터 이틀간 경기창조경제혁신센터 국제회의장에서‘2021 ...</td>\n",
              "      <td>1</td>\n",
              "      <td>26</td>\n",
              "      <td>665</td>\n",
              "      <td>6</td>\n",
              "    </tr>\n",
              "  </tbody>\n",
              "</table>\n",
              "</div>\n",
              "    <div class=\"colab-df-buttons\">\n",
              "\n",
              "  <div class=\"colab-df-container\">\n",
              "    <button class=\"colab-df-convert\" onclick=\"convertToInteractive('df-0c96e4a3-7171-48c7-8386-e5c0408fbce2')\"\n",
              "            title=\"Convert this dataframe to an interactive table.\"\n",
              "            style=\"display:none;\">\n",
              "\n",
              "  <svg xmlns=\"http://www.w3.org/2000/svg\" height=\"24px\" viewBox=\"0 -960 960 960\">\n",
              "    <path d=\"M120-120v-720h720v720H120Zm60-500h600v-160H180v160Zm220 220h160v-160H400v160Zm0 220h160v-160H400v160ZM180-400h160v-160H180v160Zm440 0h160v-160H620v160ZM180-180h160v-160H180v160Zm440 0h160v-160H620v160Z\"/>\n",
              "  </svg>\n",
              "    </button>\n",
              "\n",
              "  <style>\n",
              "    .colab-df-container {\n",
              "      display:flex;\n",
              "      gap: 12px;\n",
              "    }\n",
              "\n",
              "    .colab-df-convert {\n",
              "      background-color: #E8F0FE;\n",
              "      border: none;\n",
              "      border-radius: 50%;\n",
              "      cursor: pointer;\n",
              "      display: none;\n",
              "      fill: #1967D2;\n",
              "      height: 32px;\n",
              "      padding: 0 0 0 0;\n",
              "      width: 32px;\n",
              "    }\n",
              "\n",
              "    .colab-df-convert:hover {\n",
              "      background-color: #E2EBFA;\n",
              "      box-shadow: 0px 1px 2px rgba(60, 64, 67, 0.3), 0px 1px 3px 1px rgba(60, 64, 67, 0.15);\n",
              "      fill: #174EA6;\n",
              "    }\n",
              "\n",
              "    .colab-df-buttons div {\n",
              "      margin-bottom: 4px;\n",
              "    }\n",
              "\n",
              "    [theme=dark] .colab-df-convert {\n",
              "      background-color: #3B4455;\n",
              "      fill: #D2E3FC;\n",
              "    }\n",
              "\n",
              "    [theme=dark] .colab-df-convert:hover {\n",
              "      background-color: #434B5C;\n",
              "      box-shadow: 0px 1px 3px 1px rgba(0, 0, 0, 0.15);\n",
              "      filter: drop-shadow(0px 1px 2px rgba(0, 0, 0, 0.3));\n",
              "      fill: #FFFFFF;\n",
              "    }\n",
              "  </style>\n",
              "\n",
              "    <script>\n",
              "      const buttonEl =\n",
              "        document.querySelector('#df-0c96e4a3-7171-48c7-8386-e5c0408fbce2 button.colab-df-convert');\n",
              "      buttonEl.style.display =\n",
              "        google.colab.kernel.accessAllowed ? 'block' : 'none';\n",
              "\n",
              "      async function convertToInteractive(key) {\n",
              "        const element = document.querySelector('#df-0c96e4a3-7171-48c7-8386-e5c0408fbce2');\n",
              "        const dataTable =\n",
              "          await google.colab.kernel.invokeFunction('convertToInteractive',\n",
              "                                                    [key], {});\n",
              "        if (!dataTable) return;\n",
              "\n",
              "        const docLinkHtml = 'Like what you see? Visit the ' +\n",
              "          '<a target=\"_blank\" href=https://colab.research.google.com/notebooks/data_table.ipynb>data table notebook</a>'\n",
              "          + ' to learn more about interactive tables.';\n",
              "        element.innerHTML = '';\n",
              "        dataTable['output_type'] = 'display_data';\n",
              "        await google.colab.output.renderOutput(dataTable, element);\n",
              "        const docLink = document.createElement('div');\n",
              "        docLink.innerHTML = docLinkHtml;\n",
              "        element.appendChild(docLink);\n",
              "      }\n",
              "    </script>\n",
              "  </div>\n",
              "\n",
              "\n",
              "<div id=\"df-156f727a-ed30-4cf9-b16a-db1842e7391d\">\n",
              "  <button class=\"colab-df-quickchart\" onclick=\"quickchart('df-156f727a-ed30-4cf9-b16a-db1842e7391d')\"\n",
              "            title=\"Suggest charts.\"\n",
              "            style=\"display:none;\">\n",
              "\n",
              "<svg xmlns=\"http://www.w3.org/2000/svg\" height=\"24px\"viewBox=\"0 0 24 24\"\n",
              "     width=\"24px\">\n",
              "    <g>\n",
              "        <path d=\"M19 3H5c-1.1 0-2 .9-2 2v14c0 1.1.9 2 2 2h14c1.1 0 2-.9 2-2V5c0-1.1-.9-2-2-2zM9 17H7v-7h2v7zm4 0h-2V7h2v10zm4 0h-2v-4h2v4z\"/>\n",
              "    </g>\n",
              "</svg>\n",
              "  </button>\n",
              "\n",
              "<style>\n",
              "  .colab-df-quickchart {\n",
              "      --bg-color: #E8F0FE;\n",
              "      --fill-color: #1967D2;\n",
              "      --hover-bg-color: #E2EBFA;\n",
              "      --hover-fill-color: #174EA6;\n",
              "      --disabled-fill-color: #AAA;\n",
              "      --disabled-bg-color: #DDD;\n",
              "  }\n",
              "\n",
              "  [theme=dark] .colab-df-quickchart {\n",
              "      --bg-color: #3B4455;\n",
              "      --fill-color: #D2E3FC;\n",
              "      --hover-bg-color: #434B5C;\n",
              "      --hover-fill-color: #FFFFFF;\n",
              "      --disabled-bg-color: #3B4455;\n",
              "      --disabled-fill-color: #666;\n",
              "  }\n",
              "\n",
              "  .colab-df-quickchart {\n",
              "    background-color: var(--bg-color);\n",
              "    border: none;\n",
              "    border-radius: 50%;\n",
              "    cursor: pointer;\n",
              "    display: none;\n",
              "    fill: var(--fill-color);\n",
              "    height: 32px;\n",
              "    padding: 0;\n",
              "    width: 32px;\n",
              "  }\n",
              "\n",
              "  .colab-df-quickchart:hover {\n",
              "    background-color: var(--hover-bg-color);\n",
              "    box-shadow: 0 1px 2px rgba(60, 64, 67, 0.3), 0 1px 3px 1px rgba(60, 64, 67, 0.15);\n",
              "    fill: var(--button-hover-fill-color);\n",
              "  }\n",
              "\n",
              "  .colab-df-quickchart-complete:disabled,\n",
              "  .colab-df-quickchart-complete:disabled:hover {\n",
              "    background-color: var(--disabled-bg-color);\n",
              "    fill: var(--disabled-fill-color);\n",
              "    box-shadow: none;\n",
              "  }\n",
              "\n",
              "  .colab-df-spinner {\n",
              "    border: 2px solid var(--fill-color);\n",
              "    border-color: transparent;\n",
              "    border-bottom-color: var(--fill-color);\n",
              "    animation:\n",
              "      spin 1s steps(1) infinite;\n",
              "  }\n",
              "\n",
              "  @keyframes spin {\n",
              "    0% {\n",
              "      border-color: transparent;\n",
              "      border-bottom-color: var(--fill-color);\n",
              "      border-left-color: var(--fill-color);\n",
              "    }\n",
              "    20% {\n",
              "      border-color: transparent;\n",
              "      border-left-color: var(--fill-color);\n",
              "      border-top-color: var(--fill-color);\n",
              "    }\n",
              "    30% {\n",
              "      border-color: transparent;\n",
              "      border-left-color: var(--fill-color);\n",
              "      border-top-color: var(--fill-color);\n",
              "      border-right-color: var(--fill-color);\n",
              "    }\n",
              "    40% {\n",
              "      border-color: transparent;\n",
              "      border-right-color: var(--fill-color);\n",
              "      border-top-color: var(--fill-color);\n",
              "    }\n",
              "    60% {\n",
              "      border-color: transparent;\n",
              "      border-right-color: var(--fill-color);\n",
              "    }\n",
              "    80% {\n",
              "      border-color: transparent;\n",
              "      border-right-color: var(--fill-color);\n",
              "      border-bottom-color: var(--fill-color);\n",
              "    }\n",
              "    90% {\n",
              "      border-color: transparent;\n",
              "      border-bottom-color: var(--fill-color);\n",
              "    }\n",
              "  }\n",
              "</style>\n",
              "\n",
              "  <script>\n",
              "    async function quickchart(key) {\n",
              "      const quickchartButtonEl =\n",
              "        document.querySelector('#' + key + ' button');\n",
              "      quickchartButtonEl.disabled = true;  // To prevent multiple clicks.\n",
              "      quickchartButtonEl.classList.add('colab-df-spinner');\n",
              "      try {\n",
              "        const charts = await google.colab.kernel.invokeFunction(\n",
              "            'suggestCharts', [key], {});\n",
              "      } catch (error) {\n",
              "        console.error('Error during call to suggestCharts:', error);\n",
              "      }\n",
              "      quickchartButtonEl.classList.remove('colab-df-spinner');\n",
              "      quickchartButtonEl.classList.add('colab-df-quickchart-complete');\n",
              "    }\n",
              "    (() => {\n",
              "      let quickchartButtonEl =\n",
              "        document.querySelector('#df-156f727a-ed30-4cf9-b16a-db1842e7391d button');\n",
              "      quickchartButtonEl.style.display =\n",
              "        google.colab.kernel.accessAllowed ? 'block' : 'none';\n",
              "    })();\n",
              "  </script>\n",
              "</div>\n",
              "    </div>\n",
              "  </div>\n"
            ]
          },
          "metadata": {},
          "execution_count": 74
        }
      ]
    },
    {
      "cell_type": "code",
      "source": [
        "len(data)"
      ],
      "metadata": {
        "colab": {
          "base_uri": "https://localhost:8080/"
        },
        "id": "lsA5LnduyPTB",
        "outputId": "7e5ef8e2-95c4-4a88-f7ee-874c081e55ce"
      },
      "execution_count": null,
      "outputs": [
        {
          "output_type": "execute_result",
          "data": {
            "text/plain": [
              "318131"
            ]
          },
          "metadata": {},
          "execution_count": 75
        }
      ]
    },
    {
      "cell_type": "code",
      "source": [
        "data.to_csv('data_whole_with_len.csv', index=False, encoding='utf-8')"
      ],
      "metadata": {
        "id": "axWaiAxUyPKH"
      },
      "execution_count": null,
      "outputs": []
    },
    {
      "cell_type": "code",
      "execution_count": null,
      "metadata": {
        "colab": {
          "base_uri": "https://localhost:8080/",
          "height": 1000
        },
        "id": "vxkk8nRSYRMe",
        "outputId": "e4e5aa98-3c59-47f9-f55e-32570c085637"
      },
      "outputs": [
        {
          "output_type": "display_data",
          "data": {
            "text/plain": [
              "<Figure size 700x2000 with 7 Axes>"
            ],
            "image/png": "[encoded data removed]"
          },
          "metadata": {}
        }
      ],
      "source": [
        "plt.figure(figsize=(7, 20))\n",
        "i = 1\n",
        "\n",
        "for i in range(len(df_list)):\n",
        "    df = df_list[i]\n",
        "    plt.subplot(7, 1, i+1)\n",
        "    plt.hist(df['HeadlineLen'])\n",
        "    plt.xlim([0, 80])\n",
        "    plt.title(metadata.loc[i, 'category'])\n",
        "\n",
        "    # plt.subplot(7, 2, i+2)\n",
        "    # plt.hist(df['Content'])\n",
        "    # # plt.title(metadata.loc[i, 'category'])\n",
        "\n",
        "plt.show()"
      ]
    },
    {
      "cell_type": "code",
      "execution_count": null,
      "metadata": {
        "id": "vh4ciXHaeNAH",
        "colab": {
          "base_uri": "https://localhost:8080/",
          "height": 451
        },
        "outputId": "fb123073-b497-4469-9a07-3057a384cf2c"
      },
      "outputs": [
        {
          "output_type": "display_data",
          "data": {
            "text/plain": [
              "<Figure size 640x480 with 1 Axes>"
            ],
            "image/png": "[encoded data removed]"
          },
          "metadata": {}
        }
      ],
      "source": [
        "plt.hist(data['HeadlineLen'])\n",
        "plt.title('전체 헤드라인 길이')\n",
        "plt.show()"
      ]
    },
    {
      "cell_type": "code",
      "source": [
        "plt.hist(data['ContentLen'])\n",
        "plt.title('본문 길이')\n",
        "plt.show()"
      ],
      "metadata": {
        "colab": {
          "base_uri": "https://localhost:8080/",
          "height": 451
        },
        "id": "iZ85PaeZM0wk",
        "outputId": "3541c607-7aed-4e8b-bd52-90f0b26c51d7"
      },
      "execution_count": null,
      "outputs": [
        {
          "output_type": "display_data",
          "data": {
            "text/plain": [
              "<Figure size 640x480 with 1 Axes>"
            ],
            "image/png": "[encoded data removed]"
          },
          "metadata": {}
        }
      ]
    },
    {
      "cell_type": "markdown",
      "source": [
        "본문의 길이가 너무 긴 데이터는 BERT모델 특성상 학습에 어려움이 있다고 판단하여 삭제했습니다.  \n",
        "본문의 최대 길이는 1200으로 설정되었습니다."
      ],
      "metadata": {
        "id": "NS-u8qydP-Ua"
      }
    },
    {
      "cell_type": "code",
      "source": [
        "plt.figure(figsize=(7, 20))\n",
        "i = 1\n",
        "\n",
        "for i in range(len(df_list)):\n",
        "    df = df_list[i]\n",
        "    plt.subplot(7, 1, i+1)\n",
        "    plt.hist(df['countOfsentences'])\n",
        "    plt.xlim([0, 40])\n",
        "    plt.title(metadata.loc[i, 'category'])\n",
        "plt.show"
      ],
      "metadata": {
        "colab": {
          "base_uri": "https://localhost:8080/",
          "height": 1000
        },
        "id": "SNczbYJKNOZY",
        "outputId": "5ff7ae75-e453-401f-bdb2-0e6356bdc189"
      },
      "execution_count": null,
      "outputs": [
        {
          "output_type": "execute_result",
          "data": {
            "text/plain": [
              "<function matplotlib.pyplot.show(close=None, block=None)>"
            ]
          },
          "metadata": {},
          "execution_count": 94
        },
        {
          "output_type": "display_data",
          "data": {
            "text/plain": [
              "<Figure size 700x2000 with 7 Axes>"
            ],
            "image/png": "[encoded data removed]"
          },
          "metadata": {}
        }
      ]
    },
    {
      "cell_type": "code",
      "source": [
        "plt.hist(data['countOfsentences'])\n",
        "plt.title('전체 문장 수 히스토그램')\n",
        "plt.show()"
      ],
      "metadata": {
        "colab": {
          "base_uri": "https://localhost:8080/",
          "height": 451
        },
        "id": "dyYmw5I4Q4uM",
        "outputId": "3aadae99-7e51-4501-d6ce-b78d2e71643f"
      },
      "execution_count": null,
      "outputs": [
        {
          "output_type": "display_data",
          "data": {
            "text/plain": [
              "<Figure size 640x480 with 1 Axes>"
            ],
            "image/png": "[encoded data removed]"
          },
          "metadata": {}
        }
      ]
    },
    {
      "cell_type": "markdown",
      "source": [
        "BERT의 최대 입력 길이가 512토큰임을 고려했을 때, 본문 전체를 활용하기 위해서는 본문을 적절한 단위로 나눠주어야할 필요성이 있습니다.  \n",
        "너무 긴 문장은 제외하고, 1200자 이내의 기사에 대해서 문장단위로 몇 문장씩 나누어야지 효과적인지 확인하기 위해서 문장 개수를 출력했습니다.  \n",
        "총 10문장 내외가 가장 많은 수를 차지하고, 대체로 30문장 이내에 존재하는 것을 고려할 때, 10문장 단위로 나누어서 학습하는 것이 적절하다고 판단했습니다."
      ],
      "metadata": {
        "id": "dDH6uzEISj7u"
      }
    },
    {
      "cell_type": "code",
      "source": [
        "df_so = pd.read_csv(\"/content/drive/MyDrive/Aiffel-MahiMahi/data_processed/data_SO_all.csv\")\n",
        "df_po = pd.read_csv(\"/content/drive/MyDrive/Aiffel-MahiMahi/data_processed/data_PO_all.csv\")\n",
        "df_et = pd.read_csv(\"/content/drive/MyDrive/Aiffel-MahiMahi/data_processed/data_ET_all.csv\")\n",
        "df_lc = pd.read_csv(\"/content/drive/MyDrive/Aiffel-MahiMahi/data_processed/data_LC_all.csv\")\n",
        "df_is = pd.read_csv(\"/content/drive/MyDrive/Aiffel-MahiMahi/data_processed/data_IS_all.csv\")\n",
        "df_gb = pd.read_csv(\"/content/drive/MyDrive/Aiffel-MahiMahi/data_processed/data_GB_all.csv\")\n",
        "df_ec = pd.read_csv(\"/content/drive/MyDrive/Aiffel-MahiMahi/data_processed/data_EC_all.csv\")"
      ],
      "metadata": {
        "id": "w64_qQJyRQpd"
      },
      "execution_count": null,
      "outputs": []
    },
    {
      "cell_type": "code",
      "source": [
        "df_all = pd.concat([df_so, df_po, df_et, df_lc, df_is, df_gb, df_ec],axis=0)\n",
        "df_all.shape"
      ],
      "metadata": {
        "colab": {
          "base_uri": "https://localhost:8080/"
        },
        "id": "AzLwiA2CrBM0",
        "outputId": "11ebb1b8-e282-4c6d-9fdc-a68bdc9d9a1f"
      },
      "execution_count": null,
      "outputs": [
        {
          "output_type": "execute_result",
          "data": {
            "text/plain": [
              "(586724, 3)"
            ]
          },
          "metadata": {},
          "execution_count": 4
        }
      ]
    },
    {
      "cell_type": "code",
      "source": [
        "VL_df = pd.read_csv(\"/content/drive/MyDrive/Aiffel-MahiMahi/data_processed/VL_data.csv\", encoding='utf-8')\n",
        "\n",
        "VL_df.shape"
      ],
      "metadata": {
        "colab": {
          "base_uri": "https://localhost:8080/"
        },
        "id": "cdKC5tKhrWcJ",
        "outputId": "98666a0d-5991-4698-d918-96119bf22ff1"
      },
      "execution_count": null,
      "outputs": [
        {
          "output_type": "execute_result",
          "data": {
            "text/plain": [
              "(73321, 3)"
            ]
          },
          "metadata": {},
          "execution_count": 5
        }
      ]
    },
    {
      "cell_type": "code",
      "source": [
        "df_all.to_csv('data_whole_all.csv', encoding='utf-8')"
      ],
      "metadata": {
        "id": "3GaV-1jFsJkj"
      },
      "execution_count": null,
      "outputs": []
    },
    {
      "cell_type": "code",
      "source": [],
      "metadata": {
        "id": "21lai7BBs8bX"
      },
      "execution_count": null,
      "outputs": []
    }
  ],
  "metadata": {
    "colab": {
      "provenance": [],
      "include_colab_link": true
    },
    "kernelspec": {
      "display_name": "Python 3",
      "name": "python3"
    },
    "language_info": {
      "name": "python"
    }
  },
  "nbformat": 4,
  "nbformat_minor": 0
}