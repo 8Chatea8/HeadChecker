{
  "nbformat": 4,
  "nbformat_minor": 0,
  "metadata": {
    "colab": {
      "provenance": [],
      "authorship_tag": "ABX9TyOhI5AvofIecrOF1GjPlVhZ",
      "include_colab_link": true
    },
    "kernelspec": {
      "name": "python3",
      "display_name": "Python 3"
    },
    "language_info": {
      "name": "python"
    }
  },
  "cells": [
    {
      "cell_type": "markdown",
      "metadata": {
        "id": "view-in-github",
        "colab_type": "text"
      },
      "source": [
        "<a href=\"https://colab.research.google.com/github/8Chatea8/HeadChecker/blob/main/data/data_get.ipynb\" target=\"_parent\"><img src=\"https://colab.research.google.com/assets/colab-badge.svg\" alt=\"Open In Colab\"/></a>"
      ]
    },
    {
      "cell_type": "code",
      "execution_count": null,
      "metadata": {
        "colab": {
          "base_uri": "https://localhost:8080/"
        },
        "id": "DBuPpVuckLWj",
        "outputId": "d4cac9af-dadd-4d40-d255-44a9263dfe1f"
      },
      "outputs": [
        {
          "output_type": "stream",
          "name": "stdout",
          "text": [
            "Mounted at /content/drive\n"
          ]
        }
      ],
      "source": [
        "from google.colab import drive\n",
        "drive.mount('/content/drive')"
      ]
    },
    {
      "cell_type": "code",
      "source": [
        "import pandas as pd\n",
        "import zipfile\n",
        "import os\n",
        "import glob"
      ],
      "metadata": {
        "id": "6ItLaFu1kOjs"
      },
      "execution_count": null,
      "outputs": []
    },
    {
      "cell_type": "code",
      "source": [
        "zip_files = glob.glob('/content/drive/MyDrive/Aiffel-MahiMahi/data/Validation/*_EC.zip')\n",
        "len(zip_files) # 6"
      ],
      "metadata": {
        "colab": {
          "base_uri": "https://localhost:8080/"
        },
        "id": "TWO97mb-kPuy",
        "outputId": "0c26bece-edf3-4dbd-e8a2-2d2126c71e98"
      },
      "execution_count": null,
      "outputs": [
        {
          "output_type": "execute_result",
          "data": {
            "text/plain": [
              "6"
            ]
          },
          "metadata": {},
          "execution_count": 3
        }
      ]
    },
    {
      "cell_type": "code",
      "source": [
        "part1_zip_files = []\n",
        "part2_zip_files = []\n",
        "\n",
        "for f in zip_files:\n",
        "    if 'Part1' in f:\n",
        "        part1_zip_files.append(f)\n",
        "    elif 'Part2' in f:\n",
        "        part2_zip_files.append(f)\n",
        "    else:\n",
        "        print('something else wrong')\n",
        "\n",
        "print(part1_zip_files, '\\n', len(part1_zip_files)) # 3\n",
        "print(part2_zip_files, '\\n', len(part2_zip_files)) # 3"
      ],
      "metadata": {
        "colab": {
          "base_uri": "https://localhost:8080/"
        },
        "id": "z65_EzLYkV6a",
        "outputId": "324a2bee-22a9-4dc9-ca46-80cb15cc11ee"
      },
      "execution_count": null,
      "outputs": [
        {
          "output_type": "stream",
          "name": "stdout",
          "text": [
            "['/content/drive/MyDrive/Aiffel-MahiMahi/data/Validation/VL_Part1_Clickbait_Direct_EC.zip', '/content/drive/MyDrive/Aiffel-MahiMahi/data/Validation/VL_Part1_Clickbait_Auto_EC.zip', '/content/drive/MyDrive/Aiffel-MahiMahi/data/Validation/VL_Part1_NonClickbait_Auto_EC.zip'] \n",
            " 3\n",
            "['/content/drive/MyDrive/Aiffel-MahiMahi/data/Validation/VL_Part2_Clickbait_Direct_EC.zip', '/content/drive/MyDrive/Aiffel-MahiMahi/data/Validation/VL_Part2_NonClickbait_Auto_EC.zip', '/content/drive/MyDrive/Aiffel-MahiMahi/data/Validation/VL_Part2_Clickbait_Auto_EC.zip'] \n",
            " 3\n"
          ]
        }
      ]
    },
    {
      "cell_type": "code",
      "source": [
        "for zip in part1_zip_files:\n",
        "    zip_file = zipfile.ZipFile(zip)\n",
        "    zip_file.extractall('/content/sample_data/sample1/')"
      ],
      "metadata": {
        "id": "1IxppM6Yk2ae"
      },
      "execution_count": null,
      "outputs": []
    },
    {
      "cell_type": "code",
      "source": [
        "data_files = glob.glob('/content/sample_data/sample1/*.json')\n",
        "len(data_files)"
      ],
      "metadata": {
        "colab": {
          "base_uri": "https://localhost:8080/"
        },
        "id": "iDlOoEmuk57H",
        "outputId": "7fe64830-e341-4319-9fda-2f0238f87073"
      },
      "execution_count": null,
      "outputs": [
        {
          "output_type": "execute_result",
          "data": {
            "text/plain": [
              "5257"
            ]
          },
          "metadata": {},
          "execution_count": 6
        }
      ]
    },
    {
      "cell_type": "code",
      "source": [
        "data = pd.DataFrame()\n",
        "for files in data_files:\n",
        "    df = pd.read_json(files)\n",
        "    df = df.transpose()\n",
        "    df = df[['newTitle', 'newsContent', 'clickbaitClass']]\n",
        "    df.iloc[0, 0] = df.iloc[1, 0]\n",
        "    df.iloc[0, 2] = df.iloc[1, 2]\n",
        "    df = df.drop('labeledDataInfo', axis=0)\n",
        "    data = pd.concat([data, df])\n",
        "data = data.reset_index(drop=True)\n",
        "data.columns = ['Headline', 'Content', 'Class']"
      ],
      "metadata": {
        "id": "ZnPGBUvak7Pg"
      },
      "execution_count": null,
      "outputs": []
    },
    {
      "cell_type": "code",
      "source": [
        "len(data_files) == len(data)"
      ],
      "metadata": {
        "colab": {
          "base_uri": "https://localhost:8080/"
        },
        "id": "pCkLPjIilAsx",
        "outputId": "f65dc511-8994-4dd9-bf74-e46a1919e350"
      },
      "execution_count": null,
      "outputs": [
        {
          "output_type": "execute_result",
          "data": {
            "text/plain": [
              "True"
            ]
          },
          "metadata": {},
          "execution_count": 8
        }
      ]
    },
    {
      "cell_type": "code",
      "source": [
        "for zip in part2_zip_files:\n",
        "    zip_file = zipfile.ZipFile(zip)\n",
        "    zip_file.extractall('/content/sample_data/sample2/')"
      ],
      "metadata": {
        "id": "BFUL-j6llBmK"
      },
      "execution_count": null,
      "outputs": []
    },
    {
      "cell_type": "code",
      "source": [
        "data_files = glob.glob('/content/sample_data/sample2/*.json')\n",
        "len(data_files)"
      ],
      "metadata": {
        "colab": {
          "base_uri": "https://localhost:8080/"
        },
        "id": "ktl0nArDlCzI",
        "outputId": "c1e9a567-25a6-42df-99ab-3c72a3682c08"
      },
      "execution_count": null,
      "outputs": [
        {
          "output_type": "execute_result",
          "data": {
            "text/plain": [
              "5133"
            ]
          },
          "metadata": {},
          "execution_count": 10
        }
      ]
    },
    {
      "cell_type": "code",
      "source": [
        "data2 = pd.DataFrame()\n",
        "for files in data_files:\n",
        "    df = pd.read_json(files)\n",
        "    df = df.transpose()\n",
        "    df = df[['newsTitle', 'newsContent', 'clickbaitClass']]\n",
        "    df.iloc[0, 2] = df.iloc[1, 2]\n",
        "    df = df.drop('labeledDataInfo', axis=0)\n",
        "    data2 = pd.concat([data2, df])\n",
        "data2 = data2.reset_index(drop=True)\n",
        "data2.columns = ['Headline', 'Content', 'Class']"
      ],
      "metadata": {
        "id": "W30YLpM4lFQS"
      },
      "execution_count": null,
      "outputs": []
    },
    {
      "cell_type": "code",
      "source": [
        "len(data_files) == len(data2) # True"
      ],
      "metadata": {
        "colab": {
          "base_uri": "https://localhost:8080/"
        },
        "id": "wrMm6mhYlHku",
        "outputId": "c1465ecb-524e-4871-cb69-9908ea286a88"
      },
      "execution_count": null,
      "outputs": [
        {
          "output_type": "execute_result",
          "data": {
            "text/plain": [
              "True"
            ]
          },
          "metadata": {},
          "execution_count": 12
        }
      ]
    },
    {
      "cell_type": "code",
      "source": [
        "df = pd.concat([data, data2])\n",
        "\n",
        "len(df) == len(data) + len(data2) # True"
      ],
      "metadata": {
        "colab": {
          "base_uri": "https://localhost:8080/"
        },
        "id": "v_TtkEkQlI7W",
        "outputId": "fc304cf2-354a-4a81-f823-b1429c4746e0"
      },
      "execution_count": null,
      "outputs": [
        {
          "output_type": "execute_result",
          "data": {
            "text/plain": [
              "True"
            ]
          },
          "metadata": {},
          "execution_count": 13
        }
      ]
    },
    {
      "cell_type": "code",
      "source": [
        "df.shape"
      ],
      "metadata": {
        "colab": {
          "base_uri": "https://localhost:8080/"
        },
        "id": "OZIsJTlElLwT",
        "outputId": "f10c1656-4c54-4b6d-c8ab-414952d7e861"
      },
      "execution_count": null,
      "outputs": [
        {
          "output_type": "execute_result",
          "data": {
            "text/plain": [
              "(10390, 3)"
            ]
          },
          "metadata": {},
          "execution_count": 14
        }
      ]
    },
    {
      "cell_type": "code",
      "source": [
        "df.isnull().sum()"
      ],
      "metadata": {
        "colab": {
          "base_uri": "https://localhost:8080/"
        },
        "id": "DH4Ws7KelMyt",
        "outputId": "2a6ee639-7437-41fa-d1c0-6fc623daee08"
      },
      "execution_count": null,
      "outputs": [
        {
          "output_type": "execute_result",
          "data": {
            "text/plain": [
              "Headline    0\n",
              "Content     0\n",
              "Class       0\n",
              "dtype: int64"
            ]
          },
          "metadata": {},
          "execution_count": 15
        }
      ]
    },
    {
      "cell_type": "code",
      "source": [
        "import re\n",
        "\n",
        "def preprocess_sentence(sentence):\n",
        "    sentence = re.sub(r'\\([^)]*\\)', '', sentence) # 괄호로 닫힌 문자열 (...) 제거 Ex) my husband (and myself!) for => my husband for\n",
        "    sentence = re.sub(r'\\[[^]]*\\]', '', sentence) # [] 닫힌 문자열 제거\n",
        "    sentence = re.sub(r'\\\\\"','', sentence) # 쌍따옴표 \\\" 제거\n",
        "    sentence = re.sub(r'\\'', '', sentence) # 따옴표 ' 제거\n",
        "    return sentence"
      ],
      "metadata": {
        "id": "9LZuynI2lO3o"
      },
      "execution_count": null,
      "outputs": []
    },
    {
      "cell_type": "code",
      "source": [
        "df['cleanHeadline'] = df['Headline'].apply(lambda x: preprocess_sentence(x))\n",
        "df['cleanContent'] = df['Content'].apply(lambda x: preprocess_sentence(x))"
      ],
      "metadata": {
        "id": "VMP5mBGClQfk"
      },
      "execution_count": null,
      "outputs": []
    },
    {
      "cell_type": "code",
      "source": [
        "df['HeadLength'] = df['Headline'].apply(lambda x: len(x))\n",
        "df['ContLength'] = df['Content'].apply(lambda x: len(x))"
      ],
      "metadata": {
        "id": "OCrh4AtOlRf0"
      },
      "execution_count": null,
      "outputs": []
    },
    {
      "cell_type": "code",
      "source": [
        "df['cleanHeadLength'] = df['cleanHeadline'].apply(lambda x: len(x))\n",
        "df['cleanContLength'] = df['cleanContent'].apply(lambda x: len(x))"
      ],
      "metadata": {
        "id": "JFLzec0slTVk"
      },
      "execution_count": null,
      "outputs": []
    },
    {
      "cell_type": "code",
      "source": [
        "over_head = 0\n",
        "threshold_head = 35\n",
        "\n",
        "over_head = (df['cleanHeadLength'] > threshold_head).sum()\n",
        "\n",
        "print(f\"{threshold_head} 글자가 넘는 제목의 개수: {over_head}\")\n",
        "print(f\"{threshold_head} 글자가 넘는 제목이 전체에서 차지하는 비율: {over_head/len(df)*100:.2f}%\")"
      ],
      "metadata": {
        "colab": {
          "base_uri": "https://localhost:8080/"
        },
        "id": "y96TbzTZlV0K",
        "outputId": "29f015d8-b30f-41d9-e73e-82947009c472"
      },
      "execution_count": null,
      "outputs": [
        {
          "output_type": "stream",
          "name": "stdout",
          "text": [
            "35 글자가 넘는 제목의 개수: 1815\n",
            "35 글자가 넘는 제목이 전체에서 차지하는 비율: 17.47%\n"
          ]
        }
      ]
    },
    {
      "cell_type": "code",
      "source": [
        "over_content = 0\n",
        "threshold_content = 1200\n",
        "\n",
        "over_content = (df['cleanContLength'] > threshold_content).sum()\n",
        "\n",
        "print(f\"{threshold_content} 글자가 넘는 제목의 개수: {over_content}\")\n",
        "print(f\"{threshold_content} 글자가 넘는 제목이 전체에서 차지하는 비율: {over_content/len(df)*100:.2f}%\")"
      ],
      "metadata": {
        "colab": {
          "base_uri": "https://localhost:8080/"
        },
        "id": "CFhZKEAklkN7",
        "outputId": "482f3ef2-0d80-4966-c4e7-54cdfed2254f"
      },
      "execution_count": null,
      "outputs": [
        {
          "output_type": "stream",
          "name": "stdout",
          "text": [
            "1200 글자가 넘는 제목의 개수: 3359\n",
            "1200 글자가 넘는 제목이 전체에서 차지하는 비율: 32.33%\n"
          ]
        }
      ]
    },
    {
      "cell_type": "code",
      "source": [
        "original_length = len(df)\n",
        "\n",
        "over_head_idx = df[df['cleanHeadLength'] > threshold_head].index\n",
        "df2 = df.drop(over_head_idx)\n",
        "\n",
        "over_content_idx = df[df['cleanContLength'] > threshold_content].index\n",
        "df2 = df.drop(over_content_idx)\n",
        "\n",
        "df2.reset_index(drop=True)\n",
        "\n",
        "deleted_length = len(df2)\n",
        "\n",
        "print(f\"기존 데이터의 수: {original_length}\")\n",
        "print(f\"긴 데이터를 삭제하고 난 이후 데이터의 수: {deleted_length}\")"
      ],
      "metadata": {
        "colab": {
          "base_uri": "https://localhost:8080/"
        },
        "id": "Dp7GV_ialoNH",
        "outputId": "707dfda8-9e3d-4f09-e674-653dc05b45ba"
      },
      "execution_count": null,
      "outputs": [
        {
          "output_type": "stream",
          "name": "stdout",
          "text": [
            "기존 데이터의 수: 10390\n",
            "긴 데이터를 삭제하고 난 이후 데이터의 수: 4800\n"
          ]
        }
      ]
    },
    {
      "cell_type": "code",
      "source": [
        "sample_df = df[['cleanHeadline', 'cleanContent', 'Class']].copy()\n",
        "sample_df.columns = ['Headline', 'Content', 'Class']\n",
        "sample_df.head()"
      ],
      "metadata": {
        "colab": {
          "base_uri": "https://localhost:8080/",
          "height": 345
        },
        "id": "d-i_aAIhlqab",
        "outputId": "c3c38b5b-bfe9-482b-dbc3-3c01a30d65e9"
      },
      "execution_count": null,
      "outputs": [
        {
          "output_type": "execute_result",
          "data": {
            "text/plain": [
              "                                  Headline  \\\n",
              "0  경기 악화로 부실 대출채권이 크게 늘자 대출 회수작업 무슨 속셈 인가?   \n",
              "1              똑똑한 소비자, 한여름에 겨울점퍼, 모피를 산다?   \n",
              "2                        세종시 땅값 13개월 째 뛰었다   \n",
              "3         서울친환경유통센터 학교 관계자와 시민들과 SNS 소통 확대   \n",
              "4              대전노동청, 충청지역 사회적기업 성공사례 발굴대회   \n",
              "\n",
              "                                             Content Class  \n",
              "0  저축은행 업계가 코로나19 사태 이후 대대적으로 대출 회수작업에 나선 것으로 파악됐...     0  \n",
              "1  요즘 창업시장의 화두는 초기 창업비용 절감과 인건비 절약이다.\\n이에 인건비 부담이...     0  \n",
              "2  불공정행위 감소… 악의적 신고 예방책 마련 필요 이동전화 불공정행위 신고포상제, 일...     0  \n",
              "3  서울시농수산식품공사가 운영하는 서울친환경유통센터는 서울시 학교급식에 관한 정보를 적...     1  \n",
              "4  코로나19 사태 이후 우리는 불확실성 시대에 살아가기를 강요받고 있다.\\n불안한 미...     0  "
            ],
            "text/html": [
              "\n",
              "  <div id=\"df-9901f27b-9ac0-44b1-82e2-f9eccdc482e6\" class=\"colab-df-container\">\n",
              "    <div>\n",
              "<style scoped>\n",
              "    .dataframe tbody tr th:only-of-type {\n",
              "        vertical-align: middle;\n",
              "    }\n",
              "\n",
              "    .dataframe tbody tr th {\n",
              "        vertical-align: top;\n",
              "    }\n",
              "\n",
              "    .dataframe thead th {\n",
              "        text-align: right;\n",
              "    }\n",
              "</style>\n",
              "<table border=\"1\" class=\"dataframe\">\n",
              "  <thead>\n",
              "    <tr style=\"text-align: right;\">\n",
              "      <th></th>\n",
              "      <th>Headline</th>\n",
              "      <th>Content</th>\n",
              "      <th>Class</th>\n",
              "    </tr>\n",
              "  </thead>\n",
              "  <tbody>\n",
              "    <tr>\n",
              "      <th>0</th>\n",
              "      <td>경기 악화로 부실 대출채권이 크게 늘자 대출 회수작업 무슨 속셈 인가?</td>\n",
              "      <td>저축은행 업계가 코로나19 사태 이후 대대적으로 대출 회수작업에 나선 것으로 파악됐...</td>\n",
              "      <td>0</td>\n",
              "    </tr>\n",
              "    <tr>\n",
              "      <th>1</th>\n",
              "      <td>똑똑한 소비자, 한여름에 겨울점퍼, 모피를 산다?</td>\n",
              "      <td>요즘 창업시장의 화두는 초기 창업비용 절감과 인건비 절약이다.\\n이에 인건비 부담이...</td>\n",
              "      <td>0</td>\n",
              "    </tr>\n",
              "    <tr>\n",
              "      <th>2</th>\n",
              "      <td>세종시 땅값 13개월 째 뛰었다</td>\n",
              "      <td>불공정행위 감소… 악의적 신고 예방책 마련 필요 이동전화 불공정행위 신고포상제, 일...</td>\n",
              "      <td>0</td>\n",
              "    </tr>\n",
              "    <tr>\n",
              "      <th>3</th>\n",
              "      <td>서울친환경유통센터 학교 관계자와 시민들과 SNS 소통 확대</td>\n",
              "      <td>서울시농수산식품공사가 운영하는 서울친환경유통센터는 서울시 학교급식에 관한 정보를 적...</td>\n",
              "      <td>1</td>\n",
              "    </tr>\n",
              "    <tr>\n",
              "      <th>4</th>\n",
              "      <td>대전노동청, 충청지역 사회적기업 성공사례 발굴대회</td>\n",
              "      <td>코로나19 사태 이후 우리는 불확실성 시대에 살아가기를 강요받고 있다.\\n불안한 미...</td>\n",
              "      <td>0</td>\n",
              "    </tr>\n",
              "  </tbody>\n",
              "</table>\n",
              "</div>\n",
              "    <div class=\"colab-df-buttons\">\n",
              "\n",
              "  <div class=\"colab-df-container\">\n",
              "    <button class=\"colab-df-convert\" onclick=\"convertToInteractive('df-9901f27b-9ac0-44b1-82e2-f9eccdc482e6')\"\n",
              "            title=\"Convert this dataframe to an interactive table.\"\n",
              "            style=\"display:none;\">\n",
              "\n",
              "  <svg xmlns=\"http://www.w3.org/2000/svg\" height=\"24px\" viewBox=\"0 -960 960 960\">\n",
              "    <path d=\"M120-120v-720h720v720H120Zm60-500h600v-160H180v160Zm220 220h160v-160H400v160Zm0 220h160v-160H400v160ZM180-400h160v-160H180v160Zm440 0h160v-160H620v160ZM180-180h160v-160H180v160Zm440 0h160v-160H620v160Z\"/>\n",
              "  </svg>\n",
              "    </button>\n",
              "\n",
              "  <style>\n",
              "    .colab-df-container {\n",
              "      display:flex;\n",
              "      gap: 12px;\n",
              "    }\n",
              "\n",
              "    .colab-df-convert {\n",
              "      background-color: #E8F0FE;\n",
              "      border: none;\n",
              "      border-radius: 50%;\n",
              "      cursor: pointer;\n",
              "      display: none;\n",
              "      fill: #1967D2;\n",
              "      height: 32px;\n",
              "      padding: 0 0 0 0;\n",
              "      width: 32px;\n",
              "    }\n",
              "\n",
              "    .colab-df-convert:hover {\n",
              "      background-color: #E2EBFA;\n",
              "      box-shadow: 0px 1px 2px rgba(60, 64, 67, 0.3), 0px 1px 3px 1px rgba(60, 64, 67, 0.15);\n",
              "      fill: #174EA6;\n",
              "    }\n",
              "\n",
              "    .colab-df-buttons div {\n",
              "      margin-bottom: 4px;\n",
              "    }\n",
              "\n",
              "    [theme=dark] .colab-df-convert {\n",
              "      background-color: #3B4455;\n",
              "      fill: #D2E3FC;\n",
              "    }\n",
              "\n",
              "    [theme=dark] .colab-df-convert:hover {\n",
              "      background-color: #434B5C;\n",
              "      box-shadow: 0px 1px 3px 1px rgba(0, 0, 0, 0.15);\n",
              "      filter: drop-shadow(0px 1px 2px rgba(0, 0, 0, 0.3));\n",
              "      fill: #FFFFFF;\n",
              "    }\n",
              "  </style>\n",
              "\n",
              "    <script>\n",
              "      const buttonEl =\n",
              "        document.querySelector('#df-9901f27b-9ac0-44b1-82e2-f9eccdc482e6 button.colab-df-convert');\n",
              "      buttonEl.style.display =\n",
              "        google.colab.kernel.accessAllowed ? 'block' : 'none';\n",
              "\n",
              "      async function convertToInteractive(key) {\n",
              "        const element = document.querySelector('#df-9901f27b-9ac0-44b1-82e2-f9eccdc482e6');\n",
              "        const dataTable =\n",
              "          await google.colab.kernel.invokeFunction('convertToInteractive',\n",
              "                                                    [key], {});\n",
              "        if (!dataTable) return;\n",
              "\n",
              "        const docLinkHtml = 'Like what you see? Visit the ' +\n",
              "          '<a target=\"_blank\" href=https://colab.research.google.com/notebooks/data_table.ipynb>data table notebook</a>'\n",
              "          + ' to learn more about interactive tables.';\n",
              "        element.innerHTML = '';\n",
              "        dataTable['output_type'] = 'display_data';\n",
              "        await google.colab.output.renderOutput(dataTable, element);\n",
              "        const docLink = document.createElement('div');\n",
              "        docLink.innerHTML = docLinkHtml;\n",
              "        element.appendChild(docLink);\n",
              "      }\n",
              "    </script>\n",
              "  </div>\n",
              "\n",
              "\n",
              "<div id=\"df-0749224c-256d-43fa-89b0-b188fc979589\">\n",
              "  <button class=\"colab-df-quickchart\" onclick=\"quickchart('df-0749224c-256d-43fa-89b0-b188fc979589')\"\n",
              "            title=\"Suggest charts.\"\n",
              "            style=\"display:none;\">\n",
              "\n",
              "<svg xmlns=\"http://www.w3.org/2000/svg\" height=\"24px\"viewBox=\"0 0 24 24\"\n",
              "     width=\"24px\">\n",
              "    <g>\n",
              "        <path d=\"M19 3H5c-1.1 0-2 .9-2 2v14c0 1.1.9 2 2 2h14c1.1 0 2-.9 2-2V5c0-1.1-.9-2-2-2zM9 17H7v-7h2v7zm4 0h-2V7h2v10zm4 0h-2v-4h2v4z\"/>\n",
              "    </g>\n",
              "</svg>\n",
              "  </button>\n",
              "\n",
              "<style>\n",
              "  .colab-df-quickchart {\n",
              "      --bg-color: #E8F0FE;\n",
              "      --fill-color: #1967D2;\n",
              "      --hover-bg-color: #E2EBFA;\n",
              "      --hover-fill-color: #174EA6;\n",
              "      --disabled-fill-color: #AAA;\n",
              "      --disabled-bg-color: #DDD;\n",
              "  }\n",
              "\n",
              "  [theme=dark] .colab-df-quickchart {\n",
              "      --bg-color: #3B4455;\n",
              "      --fill-color: #D2E3FC;\n",
              "      --hover-bg-color: #434B5C;\n",
              "      --hover-fill-color: #FFFFFF;\n",
              "      --disabled-bg-color: #3B4455;\n",
              "      --disabled-fill-color: #666;\n",
              "  }\n",
              "\n",
              "  .colab-df-quickchart {\n",
              "    background-color: var(--bg-color);\n",
              "    border: none;\n",
              "    border-radius: 50%;\n",
              "    cursor: pointer;\n",
              "    display: none;\n",
              "    fill: var(--fill-color);\n",
              "    height: 32px;\n",
              "    padding: 0;\n",
              "    width: 32px;\n",
              "  }\n",
              "\n",
              "  .colab-df-quickchart:hover {\n",
              "    background-color: var(--hover-bg-color);\n",
              "    box-shadow: 0 1px 2px rgba(60, 64, 67, 0.3), 0 1px 3px 1px rgba(60, 64, 67, 0.15);\n",
              "    fill: var(--button-hover-fill-color);\n",
              "  }\n",
              "\n",
              "  .colab-df-quickchart-complete:disabled,\n",
              "  .colab-df-quickchart-complete:disabled:hover {\n",
              "    background-color: var(--disabled-bg-color);\n",
              "    fill: var(--disabled-fill-color);\n",
              "    box-shadow: none;\n",
              "  }\n",
              "\n",
              "  .colab-df-spinner {\n",
              "    border: 2px solid var(--fill-color);\n",
              "    border-color: transparent;\n",
              "    border-bottom-color: var(--fill-color);\n",
              "    animation:\n",
              "      spin 1s steps(1) infinite;\n",
              "  }\n",
              "\n",
              "  @keyframes spin {\n",
              "    0% {\n",
              "      border-color: transparent;\n",
              "      border-bottom-color: var(--fill-color);\n",
              "      border-left-color: var(--fill-color);\n",
              "    }\n",
              "    20% {\n",
              "      border-color: transparent;\n",
              "      border-left-color: var(--fill-color);\n",
              "      border-top-color: var(--fill-color);\n",
              "    }\n",
              "    30% {\n",
              "      border-color: transparent;\n",
              "      border-left-color: var(--fill-color);\n",
              "      border-top-color: var(--fill-color);\n",
              "      border-right-color: var(--fill-color);\n",
              "    }\n",
              "    40% {\n",
              "      border-color: transparent;\n",
              "      border-right-color: var(--fill-color);\n",
              "      border-top-color: var(--fill-color);\n",
              "    }\n",
              "    60% {\n",
              "      border-color: transparent;\n",
              "      border-right-color: var(--fill-color);\n",
              "    }\n",
              "    80% {\n",
              "      border-color: transparent;\n",
              "      border-right-color: var(--fill-color);\n",
              "      border-bottom-color: var(--fill-color);\n",
              "    }\n",
              "    90% {\n",
              "      border-color: transparent;\n",
              "      border-bottom-color: var(--fill-color);\n",
              "    }\n",
              "  }\n",
              "</style>\n",
              "\n",
              "  <script>\n",
              "    async function quickchart(key) {\n",
              "      const quickchartButtonEl =\n",
              "        document.querySelector('#' + key + ' button');\n",
              "      quickchartButtonEl.disabled = true;  // To prevent multiple clicks.\n",
              "      quickchartButtonEl.classList.add('colab-df-spinner');\n",
              "      try {\n",
              "        const charts = await google.colab.kernel.invokeFunction(\n",
              "            'suggestCharts', [key], {});\n",
              "      } catch (error) {\n",
              "        console.error('Error during call to suggestCharts:', error);\n",
              "      }\n",
              "      quickchartButtonEl.classList.remove('colab-df-spinner');\n",
              "      quickchartButtonEl.classList.add('colab-df-quickchart-complete');\n",
              "    }\n",
              "    (() => {\n",
              "      let quickchartButtonEl =\n",
              "        document.querySelector('#df-0749224c-256d-43fa-89b0-b188fc979589 button');\n",
              "      quickchartButtonEl.style.display =\n",
              "        google.colab.kernel.accessAllowed ? 'block' : 'none';\n",
              "    })();\n",
              "  </script>\n",
              "</div>\n",
              "    </div>\n",
              "  </div>\n"
            ]
          },
          "metadata": {},
          "execution_count": 23
        }
      ]
    },
    {
      "cell_type": "code",
      "source": [
        "sample_df.to_csv('VL_data_EC.csv', index=False, encoding='utf-8')"
      ],
      "metadata": {
        "id": "N08hPr9pmts5"
      },
      "execution_count": null,
      "outputs": []
    }
  ]
}